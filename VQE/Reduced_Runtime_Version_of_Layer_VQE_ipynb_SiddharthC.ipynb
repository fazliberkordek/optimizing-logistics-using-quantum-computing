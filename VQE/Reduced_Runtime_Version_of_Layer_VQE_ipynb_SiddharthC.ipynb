{
  "cells": [
    {
      "cell_type": "markdown",
      "id": "48eee060",
      "metadata": {
        "tags": [],
        "id": "48eee060"
      },
      "source": [
        "# [Layered VQE](https://arxiv.org/abs/2102.05566) combined with [CVaR](https://arxiv.org/pdf/1907.04769.pdfhttps://arxiv.org/pdf/1907.04769.pdf) for Combanitorial Optimization Problem"
      ]
    },
    {
      "cell_type": "markdown",
      "id": "8f97241d-4559-4937-8c61-57f1b5465f4d",
      "metadata": {
        "id": "8f97241d-4559-4937-8c61-57f1b5465f4d"
      },
      "source": [
        "***\n",
        "### Authors: **Walid El Maouaki** and **Atharva Vidwans**\n",
        "***"
      ]
    },
    {
      "cell_type": "markdown",
      "id": "581080ea-572b-4014-a57e-d379ba75f6b9",
      "metadata": {
        "tags": [],
        "id": "581080ea-572b-4014-a57e-d379ba75f6b9"
      },
      "source": [
        "### **Theory for LVQE approach**"
      ]
    },
    {
      "cell_type": "markdown",
      "id": "0a50f333-2ce2-479e-88b2-45402ab51e34",
      "metadata": {
        "id": "0a50f333-2ce2-479e-88b2-45402ab51e34"
      },
      "source": [
        "\"Suppose we use a problem encoding that requires $n$ qubits. We start the algorithm with an ansatz with no entangling gates and one $\\mathrm{R}_{y}$ gate acting on each qubit, where $\\mathrm{R}_{y}$ is the single qubit rotation through an angle $\\theta$ around the $y$-axis, the unitary matrix is defined as $\\mathrm{R}_{y}(\\theta) \\equiv e^{-i \\frac{\\theta}{2} \\mathrm{Y}}$, and $\\mathrm{Y}$ is the Pauli $\\mathrm{Y}$ operator. The parameters of these $\\mathrm{R}_{y}$ gates are initialized uniformly randomly on $[0,2 \\pi] .$ We denote the parameters for this layer of gates (Layer 0 in Fig. 2) as $\\theta_{0}$ and the layer as $U_{0}\\left(\\theta_{0}\\right) .$ The quantum state after applying the circuit to the initial state $|0\\rangle$ is denoted as $\\left|\\psi_{0}\\left(\\theta_{0}\\right)\\right\\rangle \\equiv U_{0}\\left(\\theta_{0}\\right)|0\\rangle .$ We then proceed to the conventional VQE routine and iteratively update the parameters $\\boldsymbol{\\theta}_{0}$ to minimize the cost function $\\left\\langle\\psi_{0}\\left(\\boldsymbol{\\theta}_{0}\\right)|\\mathcal{H}| \\psi_{0}\\left(\\boldsymbol{\\theta}_{0}\\right)\\right\\rangle .$ In conventional VQE, this iterative procedure is run until convergence; but in L-VQE, we stop after a fixed\n",
        "number of iterations and then add another set of gates to the ansatz. The conventional strategy can indeed produce a better result at this step, but after adding the new set of gates, it may more easily get trapped in a local minimum in the subsequent optimization procedure. In our experiments, the number of iterations is picked empirically and increases linearly as system size grows.\n",
        "\n",
        "The newly added set of gates includes the $\\mathrm{R}_{y}$ gates and CNOT gates that act on nearest-neighbor qubits. Another way to describe this whole procedure is that we embed the obtained parameterized circuit into a deeper circuit. We denote this newly added layer of the circuit $U_{1}\\left(\\boldsymbol{\\theta}_{1}\\right)$, (Layer 1 in Fig. 2). The newly added parameters $\\boldsymbol{\\theta}_{1}$ are initialized as zero. Note that here since $\\mathrm{R}_{y}(0)=\\mathrm{I}$ and $\\mathrm{CNOT}^{2}=\\mathrm{I}$, where $\\mathrm{I}$ is the identity matrix, the quantum state becomes\n",
        "$$\n",
        "\\left|\\psi_{1}\\left(\\boldsymbol{\\theta}_{0}, \\boldsymbol{\\theta}_{1}\\right)\\right\\rangle \\equiv U_{1}\\left(\\boldsymbol{\\theta}_{1}\\right) U_{0}\\left(\\boldsymbol{\\theta}_{0}\\right)|0\\rangle=U_{0}\\left(\\boldsymbol{\\theta}_{0}\\right)|0\\rangle=\\left|\\psi_{0}\\left(\\boldsymbol{\\theta}_{0}\\right)\\right\\rangle\n",
        "$$ \n",
        "Therefore, initializing the newly added parameters as zeros guarantee that the cost function that we are optimizing will not change after adding this new layer. However, one may add small random perturbation to the parameters before optimization is continued. In that sense, $\\boldsymbol{\\theta}_{1}$ are not initialized with zero but with small random numbers. As we proceed to the optimization process, iteratively updating the parameters $\\boldsymbol{\\theta}_{0}, \\boldsymbol{\\theta}_{1}$ to minimize the cost function $\\left\\langle\\psi_{1}\\left(\\boldsymbol{\\theta}_{0}, \\boldsymbol{\\theta}_{1}\\right)|\\mathcal{H}| \\psi_{1}\\left(\\boldsymbol{\\theta}_{0}, \\boldsymbol{\\theta}_{1}\\right)\\right\\rangle$, initializing with small random numbers may\n",
        "be useful to avoid local minima and speed up the optimization in general. At this point, we can either let the optimization run until convergence or repeat the previous process, stop at a fixed number of iterations, and add another set of gates to the circuit and then optimize.\"\n",
        "\n",
        "The pseudo code of the algorithm is presented in Algorithm:\n",
        "\n",
        "<img src=\"pseudocode.PNG\" height=\"70%\" width=\"70%\">\n",
        "\n",
        "The typical LVQE ansatz with 2 layers and 6 qubits is as shown below:\n",
        "\n",
        "<img src=\"Ansatz.PNG\" height=\"70%\" width=\"70%\">"
      ]
    },
    {
      "cell_type": "markdown",
      "id": "00b2b9b5-0584-4867-93b6-462bdb2933f0",
      "metadata": {
        "tags": [],
        "id": "00b2b9b5-0584-4867-93b6-462bdb2933f0"
      },
      "source": [
        "#### **Importing standard Qiskit libraries and other necessary modules**"
      ]
    },
    {
      "cell_type": "code",
      "execution_count": 2,
      "id": "6a2ab4b8",
      "metadata": {
        "id": "6a2ab4b8",
        "outputId": "9770c1dd-344f-4172-9581-f0b762d20590",
        "colab": {
          "base_uri": "https://localhost:8080/",
          "height": 1000
        }
      },
      "outputs": [
        {
          "output_type": "stream",
          "name": "stdout",
          "text": [
            "Looking in indexes: https://pypi.org/simple, https://us-python.pkg.dev/colab-wheels/public/simple/\n",
            "Collecting qiskit\n",
            "  Downloading qiskit-0.37.0.tar.gz (13 kB)\n",
            "Collecting qiskit-terra==0.21.0\n",
            "  Downloading qiskit_terra-0.21.0-cp37-cp37m-manylinux_2_17_x86_64.manylinux2014_x86_64.whl (6.7 MB)\n",
            "\u001b[K     |████████████████████████████████| 6.7 MB 30.5 MB/s \n",
            "\u001b[?25hCollecting qiskit-aer==0.10.4\n",
            "  Downloading qiskit_aer-0.10.4-cp37-cp37m-manylinux_2_12_x86_64.manylinux2010_x86_64.whl (18.0 MB)\n",
            "\u001b[K     |████████████████████████████████| 18.0 MB 347 kB/s \n",
            "\u001b[?25hCollecting qiskit-ibmq-provider==0.19.2\n",
            "  Downloading qiskit_ibmq_provider-0.19.2-py3-none-any.whl (240 kB)\n",
            "\u001b[K     |████████████████████████████████| 240 kB 60.6 MB/s \n",
            "\u001b[?25hRequirement already satisfied: scipy>=1.0 in /usr/local/lib/python3.7/dist-packages (from qiskit-aer==0.10.4->qiskit) (1.7.3)\n",
            "Requirement already satisfied: numpy>=1.16.3 in /usr/local/lib/python3.7/dist-packages (from qiskit-aer==0.10.4->qiskit) (1.21.6)\n",
            "Collecting requests-ntlm>=1.1.0\n",
            "  Downloading requests_ntlm-1.1.0-py2.py3-none-any.whl (5.7 kB)\n",
            "Requirement already satisfied: urllib3>=1.21.1 in /usr/local/lib/python3.7/dist-packages (from qiskit-ibmq-provider==0.19.2->qiskit) (1.24.3)\n",
            "Requirement already satisfied: python-dateutil>=2.8.0 in /usr/local/lib/python3.7/dist-packages (from qiskit-ibmq-provider==0.19.2->qiskit) (2.8.2)\n",
            "Collecting websocket-client>=1.0.1\n",
            "  Downloading websocket_client-1.3.3-py3-none-any.whl (54 kB)\n",
            "\u001b[K     |████████████████████████████████| 54 kB 3.0 MB/s \n",
            "\u001b[?25hCollecting websockets>=10.0\n",
            "  Downloading websockets-10.3-cp37-cp37m-manylinux_2_5_x86_64.manylinux1_x86_64.manylinux_2_12_x86_64.manylinux2010_x86_64.whl (112 kB)\n",
            "\u001b[K     |████████████████████████████████| 112 kB 57.4 MB/s \n",
            "\u001b[?25hRequirement already satisfied: requests>=2.19 in /usr/local/lib/python3.7/dist-packages (from qiskit-ibmq-provider==0.19.2->qiskit) (2.23.0)\n",
            "Collecting ply>=3.10\n",
            "  Downloading ply-3.11-py2.py3-none-any.whl (49 kB)\n",
            "\u001b[K     |████████████████████████████████| 49 kB 6.2 MB/s \n",
            "\u001b[?25hCollecting symengine>=0.9\n",
            "  Downloading symengine-0.9.2-cp37-cp37m-manylinux2010_x86_64.whl (37.5 MB)\n",
            "\u001b[K     |████████████████████████████████| 37.5 MB 46 kB/s \n",
            "\u001b[?25hRequirement already satisfied: dill>=0.3 in /usr/local/lib/python3.7/dist-packages (from qiskit-terra==0.21.0->qiskit) (0.3.5.1)\n",
            "Collecting shared-memory38\n",
            "  Downloading shared_memory38-0.1.2-cp37-cp37m-manylinux_2_5_x86_64.manylinux1_x86_64.whl (25 kB)\n",
            "Collecting tweedledum<2.0,>=1.1\n",
            "  Downloading tweedledum-1.1.1-cp37-cp37m-manylinux_2_12_x86_64.manylinux2010_x86_64.whl (943 kB)\n",
            "\u001b[K     |████████████████████████████████| 943 kB 40.4 MB/s \n",
            "\u001b[?25hRequirement already satisfied: typing-extensions in /usr/local/lib/python3.7/dist-packages (from qiskit-terra==0.21.0->qiskit) (4.1.1)\n",
            "Collecting stevedore>=3.0.0\n",
            "  Downloading stevedore-3.5.0-py3-none-any.whl (49 kB)\n",
            "\u001b[K     |████████████████████████████████| 49 kB 6.2 MB/s \n",
            "\u001b[?25hCollecting retworkx>=0.11.0\n",
            "  Downloading retworkx-0.11.0-cp37-cp37m-manylinux_2_5_x86_64.manylinux1_x86_64.manylinux_2_12_x86_64.manylinux2010_x86_64.whl (1.6 MB)\n",
            "\u001b[K     |████████████████████████████████| 1.6 MB 29.7 MB/s \n",
            "\u001b[?25hRequirement already satisfied: psutil>=5 in /usr/local/lib/python3.7/dist-packages (from qiskit-terra==0.21.0->qiskit) (5.4.8)\n",
            "Requirement already satisfied: sympy>=1.3 in /usr/local/lib/python3.7/dist-packages (from qiskit-terra==0.21.0->qiskit) (1.7.1)\n",
            "Requirement already satisfied: six>=1.5 in /usr/local/lib/python3.7/dist-packages (from python-dateutil>=2.8.0->qiskit-ibmq-provider==0.19.2->qiskit) (1.15.0)\n",
            "Requirement already satisfied: idna<3,>=2.5 in /usr/local/lib/python3.7/dist-packages (from requests>=2.19->qiskit-ibmq-provider==0.19.2->qiskit) (2.10)\n",
            "Requirement already satisfied: certifi>=2017.4.17 in /usr/local/lib/python3.7/dist-packages (from requests>=2.19->qiskit-ibmq-provider==0.19.2->qiskit) (2022.6.15)\n",
            "Requirement already satisfied: chardet<4,>=3.0.2 in /usr/local/lib/python3.7/dist-packages (from requests>=2.19->qiskit-ibmq-provider==0.19.2->qiskit) (3.0.4)\n",
            "Collecting cryptography>=1.3\n",
            "  Downloading cryptography-37.0.4-cp36-abi3-manylinux_2_24_x86_64.whl (4.1 MB)\n",
            "\u001b[K     |████████████████████████████████| 4.1 MB 40.1 MB/s \n",
            "\u001b[?25hCollecting ntlm-auth>=1.0.2\n",
            "  Downloading ntlm_auth-1.5.0-py2.py3-none-any.whl (29 kB)\n",
            "Requirement already satisfied: cffi>=1.12 in /usr/local/lib/python3.7/dist-packages (from cryptography>=1.3->requests-ntlm>=1.1.0->qiskit-ibmq-provider==0.19.2->qiskit) (1.15.1)\n",
            "Requirement already satisfied: pycparser in /usr/local/lib/python3.7/dist-packages (from cffi>=1.12->cryptography>=1.3->requests-ntlm>=1.1.0->qiskit-ibmq-provider==0.19.2->qiskit) (2.21)\n",
            "Requirement already satisfied: importlib-metadata>=1.7.0 in /usr/local/lib/python3.7/dist-packages (from stevedore>=3.0.0->qiskit-terra==0.21.0->qiskit) (4.12.0)\n",
            "Collecting pbr!=2.1.0,>=2.0.0\n",
            "  Downloading pbr-5.9.0-py2.py3-none-any.whl (112 kB)\n",
            "\u001b[K     |████████████████████████████████| 112 kB 59.6 MB/s \n",
            "\u001b[?25hRequirement already satisfied: zipp>=0.5 in /usr/local/lib/python3.7/dist-packages (from importlib-metadata>=1.7.0->stevedore>=3.0.0->qiskit-terra==0.21.0->qiskit) (3.8.0)\n",
            "Requirement already satisfied: mpmath>=0.19 in /usr/local/lib/python3.7/dist-packages (from sympy>=1.3->qiskit-terra==0.21.0->qiskit) (1.2.1)\n",
            "Building wheels for collected packages: qiskit\n",
            "  Building wheel for qiskit (setup.py) ... \u001b[?25l\u001b[?25hdone\n",
            "  Created wheel for qiskit: filename=qiskit-0.37.0-py3-none-any.whl size=12028 sha256=f2156c3019a2c0992aa7f375cd39cb9b70f1e03cfdc16e3e094eaf3441588d5b\n",
            "  Stored in directory: /root/.cache/pip/wheels/ed/f9/fa/3ed81abb79590bf4c0432e7816bcdf3f0dbd1ba5aeb3eeddf7\n",
            "Successfully built qiskit\n",
            "Installing collected packages: pbr, tweedledum, symengine, stevedore, shared-memory38, retworkx, ply, ntlm-auth, cryptography, websockets, websocket-client, requests-ntlm, qiskit-terra, qiskit-ibmq-provider, qiskit-aer, qiskit\n",
            "\u001b[31mERROR: Operation cancelled by user\u001b[0m\n"
          ]
        },
        {
          "output_type": "error",
          "ename": "ModuleNotFoundError",
          "evalue": "ignored",
          "traceback": [
            "\u001b[0;31m---------------------------------------------------------------------------\u001b[0m",
            "\u001b[0;31mModuleNotFoundError\u001b[0m                       Traceback (most recent call last)",
            "\u001b[0;32m<ipython-input-2-f6741d212bc3>\u001b[0m in \u001b[0;36m<module>\u001b[0;34m()\u001b[0m\n\u001b[1;32m      3\u001b[0m \u001b[0;32mfrom\u001b[0m \u001b[0mqiskit\u001b[0m \u001b[0;32mimport\u001b[0m \u001b[0mQuantumCircuit\u001b[0m\u001b[0;34m,\u001b[0m \u001b[0mAer\u001b[0m\u001b[0;34m\u001b[0m\u001b[0;34m\u001b[0m\u001b[0m\n\u001b[1;32m      4\u001b[0m \u001b[0;32mfrom\u001b[0m \u001b[0mqiskit\u001b[0m\u001b[0;34m.\u001b[0m\u001b[0mtools\u001b[0m\u001b[0;34m.\u001b[0m\u001b[0mjupyter\u001b[0m \u001b[0;32mimport\u001b[0m \u001b[0;34m*\u001b[0m\u001b[0;34m\u001b[0m\u001b[0;34m\u001b[0m\u001b[0m\n\u001b[0;32m----> 5\u001b[0;31m \u001b[0;32mfrom\u001b[0m \u001b[0mibm_quantum_widgets\u001b[0m \u001b[0;32mimport\u001b[0m \u001b[0;34m*\u001b[0m\u001b[0;34m\u001b[0m\u001b[0;34m\u001b[0m\u001b[0m\n\u001b[0m\u001b[1;32m      6\u001b[0m \u001b[0;32mfrom\u001b[0m \u001b[0mqiskit\u001b[0m\u001b[0;34m.\u001b[0m\u001b[0malgorithms\u001b[0m\u001b[0;34m.\u001b[0m\u001b[0moptimizers\u001b[0m \u001b[0;32mimport\u001b[0m \u001b[0mADAM\u001b[0m\u001b[0;34m,\u001b[0m \u001b[0mCG\u001b[0m\u001b[0;34m,\u001b[0m \u001b[0mGSLS\u001b[0m\u001b[0;34m,\u001b[0m \u001b[0mNELDER_MEAD\u001b[0m\u001b[0;34m,\u001b[0m \u001b[0mNFT\u001b[0m\u001b[0;34m,\u001b[0m \u001b[0mPOWELL\u001b[0m\u001b[0;34m,\u001b[0m \u001b[0mSPSA\u001b[0m\u001b[0;34m,\u001b[0m \u001b[0mTNC\u001b[0m\u001b[0;34m,\u001b[0m \u001b[0mCOBYLA\u001b[0m\u001b[0;34m,\u001b[0m \u001b[0mL_BFGS_B\u001b[0m\u001b[0;34m,\u001b[0m \u001b[0mSLSQP\u001b[0m\u001b[0;34m,\u001b[0m \u001b[0mAQGD\u001b[0m\u001b[0;34m,\u001b[0m \u001b[0mP_BFGS\u001b[0m\u001b[0;34m\u001b[0m\u001b[0;34m\u001b[0m\u001b[0m\n\u001b[1;32m      7\u001b[0m \u001b[0;32mfrom\u001b[0m \u001b[0mqiskit\u001b[0m\u001b[0;34m.\u001b[0m\u001b[0malgorithms\u001b[0m \u001b[0;32mimport\u001b[0m \u001b[0mVQE\u001b[0m\u001b[0;34m,\u001b[0m \u001b[0mQAOA\u001b[0m\u001b[0;34m\u001b[0m\u001b[0;34m\u001b[0m\u001b[0m\n",
            "\u001b[0;31mModuleNotFoundError\u001b[0m: No module named 'ibm_quantum_widgets'",
            "",
            "\u001b[0;31m---------------------------------------------------------------------------\u001b[0;32m\nNOTE: If your import is failing due to a missing package, you can\nmanually install dependencies using either !pip or !apt.\n\nTo view examples of installing some common dependencies, click the\n\"Open Examples\" button below.\n\u001b[0;31m---------------------------------------------------------------------------\u001b[0m\n"
          ],
          "errorDetails": {
            "actions": [
              {
                "action": "open_url",
                "actionText": "Open Examples",
                "url": "/notebooks/snippets/importing_libraries.ipynb"
              }
            ]
          }
        }
      ],
      "source": [
        "# Required Qiskit Libraries\n",
        "!pip install qiskit # This is just for the code editor I am using\n",
        "from qiskit import QuantumCircuit, Aer\n",
        "from qiskit.tools.jupyter import *\n",
        "from ibm_quantum_widgets import *\n",
        "from qiskit.algorithms.optimizers import ADAM, CG, GSLS, NELDER_MEAD, NFT, POWELL, SPSA, TNC, COBYLA, L_BFGS_B, SLSQP, AQGD, P_BFGS\n",
        "from qiskit.algorithms import VQE, QAOA\n",
        "from qiskit.opflow import I, X, Z, Y, PauliExpectation, CVaRExpectation\n",
        "from qiskit.utils import QuantumInstance\n",
        "from qiskit.optimization.problems import QuadraticProgram\n",
        "from qiskit.optimization.algorithms import MinimumEigenOptimizer\n",
        "from qiskit.optimization.applications.ising.common import sample_most_likely\n",
        "from qiskit.optimization.applications.ising import tsp\n",
        "from qiskit.circuit import ParameterVector\n",
        "from qiskit.aqua.algorithms import NumPyMinimumEigensolver\n",
        "\n",
        "# New Imports Needed for below sections' code\n",
        "# from dask_jobqueue import LSFCluster\n",
        "# from dask.distributed import Client\n",
        "# from qiskit.providers.aer import AerSimulator\n",
        "# End of new Imports needed for below section's code\n",
        "# Can be uncommented if needed\n",
        "\n",
        "import itertools\n",
        "import numpy as np\n",
        "import pandas as pd\n",
        "import networkx as nx\n",
        "\n",
        "# Visualization tool\n",
        "from qiskit.visualization import *\n",
        "import matplotlib.pyplot as plt\n",
        "import matplotlib.axes as axes\n",
        "\n",
        "# Ignore Deprecation Warnings\n",
        "import warnings\n",
        "warnings.filterwarnings(\"ignore\", category=DeprecationWarning)\n",
        "\n",
        "print(\"All modules imported successfully\")"
      ]
    },
    {
      "cell_type": "markdown",
      "id": "c704e112",
      "metadata": {
        "tags": [],
        "id": "c704e112"
      },
      "source": [
        "*** *italicized text*\n",
        "### **Allocating Optimal Amount of Resources for Job - Currently Commented Out** ###\n",
        "***"
      ]
    },
    {
      "cell_type": "code",
      "source": [
        "# Code for limiting requirements for this program based on device\n",
        "# cluster = LSFCluster(cores=4, memory=\"4GB\") # 4 CPU cores, 4GB of memory\n",
        "# DASK_client = Client(cluster)\n",
        "# backend = AerSimulator # Linking to the Aer Simulator\n",
        "# backend.set_options(executor=my_dask_client, max_job_size=10) # Arbitrary number of jobs, but a large one just in case.\n",
        "\n",
        "# This code is only for if one wants to implement their programs on their own devices, not on IBM's devices.\n",
        "# To properly use this code, one has to remove the \"backend =\" code and replace it with just \"backend\""
      ],
      "metadata": {
        "id": "TX6MfCKlx8Ao"
      },
      "id": "TX6MfCKlx8Ao",
      "execution_count": null,
      "outputs": []
    },
    {
      "cell_type": "markdown",
      "metadata": {
        "tags": [],
        "id": "DU62A1ZpxxVi"
      },
      "source": [
        "***\n",
        "### **Layer VQE circuit construction** ###\n",
        "***"
      ],
      "id": "DU62A1ZpxxVi"
    },
    {
      "cell_type": "markdown",
      "id": "719b8865-b94e-4099-a03d-221dabae9e18",
      "metadata": {
        "id": "719b8865-b94e-4099-a03d-221dabae9e18"
      },
      "source": [
        "Module concentrates on circuit generation for LVQE. The only difference in the LVQE and VQE is the training of the  circuit. In LVQE as explained above the circuit is trained layer-wise which is contrast to conventional VQE appraoch. In conventional VQE the circuit is trained only once completely. Thus this same circuit can be used for VQE approach with different training techniques.    "
      ]
    },
    {
      "cell_type": "code",
      "execution_count": null,
      "id": "8fe8b135",
      "metadata": {
        "id": "8fe8b135"
      },
      "outputs": [],
      "source": [
        "# Create the structure of the Layers\n",
        "def Layer_VQE(n,theta):\n",
        "    \n",
        "    m=0\n",
        "    q=QuantumCircuit(n)\n",
        "    if (n % 2) == 0:\n",
        "        #Sub Layer1\n",
        "        for _ in range(2):\n",
        "            for i, j in itertools.zip_longest(range(0,n-1,2), range(0,n,1)):\n",
        "                if i!=None:\n",
        "                    q.cx(i,i+1)\n",
        "                if j!=None:\n",
        "                    q.ry(theta[m],j)\n",
        "                    m+=1\n",
        "    #=========================\n",
        "        #Sub Layer2\n",
        "        for _ in range(2):\n",
        "            for i, j in itertools.zip_longest(range(1,n-2,2), range(1,n-1,1)):\n",
        "                if i!=None:\n",
        "                    q.cx(i,i+1)\n",
        "                if j!=None:\n",
        "                    q.ry(theta[m],j)\n",
        "                    m+=1\n",
        "    else:\n",
        "        #SubLayer1\n",
        "        for _ in range(2):\n",
        "            for i, j in itertools.zip_longest(range(0,n-1,2), range(0,n-1,1)):\n",
        "                if i!=None:\n",
        "                    q.cx(i,i+1)\n",
        "                if j!=None:\n",
        "                    q.ry(theta[m],j)\n",
        "                    m+=1\n",
        "        #==========================\n",
        "        #SubLayer2\n",
        "        for _ in range(2):\n",
        "            for i, j in itertools.zip_longest(range(1,n-1,2), range(1,n,1)):\n",
        "                if i!=None:\n",
        "                    q.cx(i,i+1)\n",
        "                if j!=None:\n",
        "                    q.ry(theta[m],j)\n",
        "                    m+=1\n",
        "    return q"
      ]
    },
    {
      "cell_type": "code",
      "execution_count": null,
      "id": "b5bd7c21",
      "metadata": {
        "id": "b5bd7c21"
      },
      "outputs": [],
      "source": [
        "# Apply l number of Layers\n",
        "def Layers(theta,n,l):\n",
        "    num_param=4*(n-1)\n",
        "    if l==0:\n",
        "        qc=QuantumCircuit(n)\n",
        "        [qc.ry(theta[p],p) for p in range(n)]\n",
        "\n",
        "    else:\n",
        "        qc=QuantumCircuit(n)\n",
        "        # Apply layer 0\n",
        "        [qc.ry(theta[p],p) for p in range(n)]\n",
        "        # Apply Layers l\n",
        "        for j in range(1,l+1):\n",
        "            qc=qc+Layer_VQE(n,theta[n+(j-1)*num_param:n+j*num_param])\n",
        "    return qc"
      ]
    },
    {
      "cell_type": "code",
      "execution_count": null,
      "id": "732fed0f-d814-448c-87a3-50982110fed9",
      "metadata": {
        "id": "732fed0f-d814-448c-87a3-50982110fed9"
      },
      "outputs": [],
      "source": [
        "def Layers_optimization(n,l,H,iteration:list,expectation=None,shots=1024,small_random=False,printing=True):\n",
        "    if len(iteration)!=l+1:\n",
        "        raise ValueError('The lenght of you iteration list must equal the maximum number of Layers l+1')\n",
        "            \n",
        "    num_para=4*(n-1) # The number of parameters in each Layer (except Layer 0).\n",
        "    # Store intermidiate data:\n",
        "    counts =list_of_lists = [[] for i in range(l+1)] # it stores the number of iterations for each Layer\n",
        "    values =list_of_lists = [[] for i in range(l+1)] # it stores the energy after each iteration for each Layer\n",
        "\n",
        "    for i in range(0,l+1):\n",
        "        # function to append intermidiate data to plot it:\n",
        "        def store_intermediate_result(eval_count, parameters, mean, std):\n",
        "            counts[i].append(eval_count)\n",
        "            values[i].append(mean)\n",
        "\n",
        "        # if i==0 means that you will apply the first simple layer (it is isolated because it is different from the other layers):\n",
        "        if i==0:\n",
        "            params =  ParameterVector('θ', n)\n",
        "            ansatz = Layers(params,n,i)\n",
        "            parameters = np.random.uniform(0,2*np.pi,size=(n)).tolist() # Initialize the Layer 0 parameters randomly between [0,2pi]\n",
        "\n",
        "            vqe = VQE(ansatz = ansatz, optimizer = COBYLA(maxiter=iteration[i]), initial_point=parameters, expectation=expectation,\n",
        "                      quantum_instance=QuantumInstance(backend=Aer.get_backend(\"qasm_simulator\"),shots=shots), max_evals_grouped=1,callback=store_intermediate_result)\n",
        "            result = vqe.compute_minimum_eigenvalue(operator=H)\n",
        "\n",
        "            parameters = result.optimal_point.tolist()\n",
        "        # Aplly Layer 1...l:\n",
        "        else:\n",
        "            params =  ParameterVector('θ', n+num_para*i)\n",
        "            ansatz = Layers(params, n,i)\n",
        "            if small_random==True:\n",
        "                add = np.random.uniform(1e-10,1e-5,size=(num_para)).tolist()\n",
        "            else:\n",
        "                add=np.zeros(num_para).tolist() # Initialize the Layer 1...l parameters to 0\n",
        "            parameters =parameters + add\n",
        "\n",
        "            vqe = VQE(ansatz=ansatz, optimizer = COBYLA(maxiter=iteration[i]), initial_point=parameters, expectation=expectation,\n",
        "                      quantum_instance=QuantumInstance(backend=Aer.get_backend(\"qasm_simulator\"),shots=shots), max_evals_grouped=1, callback=store_intermediate_result)\n",
        "            result = vqe.compute_minimum_eigenvalue(operator=H)\n",
        "\n",
        "            parameters = result.optimal_point.tolist()\n",
        "\n",
        "        if printing==True:\n",
        "            print(\"Optimization after Layer {}:\".format(i),result.optimal_value)\n",
        "\n",
        "    return result, counts, values, ansatz"
      ]
    },
    {
      "cell_type": "markdown",
      "id": "8bb47f06-bb02-4afb-b941-756e6f5dc901",
      "metadata": {
        "tags": [],
        "id": "8bb47f06-bb02-4afb-b941-756e6f5dc901"
      },
      "source": [
        "***\n",
        "### **Formulating the Hamiltonian :** ###\n",
        "***"
      ]
    },
    {
      "cell_type": "markdown",
      "id": "5a4f0f00-4ff3-4056-861d-e1793749df67",
      "metadata": {
        "id": "5a4f0f00-4ff3-4056-861d-e1793749df67"
      },
      "source": [
        "After carefully designing the Ansatz we move forward to formulating the Hamiltonian for the specific TSP problem. For a graph with 3 nodes the Hamiltonian is represented using 9 qubits, i.e. N<sup>2</sup>, where N is the number of nodes. \n",
        "This Hamiltonain formulation is extracted from this <font color='green'> [notebook](https://qiskit.org/documentation/tutorials/optimization/6_examples_max_cut_and_tsp.html#Traveling-Salesman-Problem)</font>"
      ]
    },
    {
      "cell_type": "code",
      "execution_count": null,
      "id": "2f26c5f8",
      "metadata": {
        "id": "2f26c5f8"
      },
      "outputs": [],
      "source": [
        "def draw_graph(G, colors, pos):\n",
        "    default_axes = plt.axes(frameon=True)\n",
        "    nx.draw_networkx(G, node_color=colors, node_size=600, alpha=.8, ax=default_axes, pos=pos)\n",
        "    edge_labels = nx.get_edge_attributes(G, 'weight')\n",
        "    nx.draw_networkx_edge_labels(G, pos=pos, edge_labels=edge_labels)\n",
        "\n",
        "# Generating a graph of 3 nodes\n",
        "nodes = 3 # Set this value for changing the number of nodes in the graph \n",
        "num_qubits = nodes ** 2\n",
        "ins = tsp.random_tsp(nodes, seed=123)\n",
        "print('distance between the nodes is: \\n', ins.w)\n",
        "\n",
        "# Draw the graph\n",
        "G = nx.Graph()\n",
        "G.add_nodes_from(np.arange(0, ins.dim, 1))\n",
        "colors = ['r' for node in G.nodes()]\n",
        "\n",
        "for i in range(0, ins.dim):\n",
        "    for j in range(i+1, ins.dim):\n",
        "        G.add_edge(i, j, weight=ins.w[i,j])\n",
        "\n",
        "pos = {k: v for k, v in enumerate(ins.coord)}\n",
        "print(\"\\n\\nThe Graph for this Combanitorial Optimization problem is shown below\")\n",
        "draw_graph(G, colors, pos)"
      ]
    },
    {
      "cell_type": "markdown",
      "id": "2481e008-adf8-4a78-8255-310fefff2d94",
      "metadata": {
        "id": "2481e008-adf8-4a78-8255-310fefff2d94"
      },
      "source": [
        "This is how the Hamiltonian will appear:"
      ]
    },
    {
      "cell_type": "code",
      "execution_count": null,
      "id": "56f6af5f",
      "metadata": {
        "id": "56f6af5f"
      },
      "outputs": [],
      "source": [
        "qubitOp, offset = tsp.get_operator(ins)\n",
        "print('Offset:', offset)\n",
        "print('Ising Hamiltonian:')\n",
        "print(qubitOp.print_details())"
      ]
    },
    {
      "cell_type": "code",
      "execution_count": null,
      "id": "0fa5a419-1232-400d-b58e-c227c47f189a",
      "metadata": {
        "id": "0fa5a419-1232-400d-b58e-c227c47f189a"
      },
      "outputs": [],
      "source": [
        "ee = NumPyMinimumEigensolver(qubitOp)\n",
        "result = ee.run()\n",
        "ground = result.eigenvalue.real\n",
        "print(ground)"
      ]
    },
    {
      "cell_type": "markdown",
      "id": "d9b4b203",
      "metadata": {
        "id": "d9b4b203"
      },
      "source": [
        "* Now we will copy past this data in a `.txt` file and add a header (so that we can access each column) such as:\n",
        "\n",
        "$\\quad\\quad\\quad\\quad\\quad\\quad$Paulis     $\\;\\;\\;$   Weight <br>\n",
        "$\\quad\\quad\\quad\\quad\\quad\\quad$IIIIIIIIZ   $\\;\\;\\;$    (-100069.5+0j)<br>\n",
        "$\\quad\\quad\\quad\\quad\\quad\\quad$IIIIZIIII     $\\;\\;\\;$   (-100055.5+0j)<br>\n",
        "$\\quad\\quad\\quad\\quad\\quad\\quad$IIIIZIIIZ    $\\;\\;\\;$    (12+0j)<br>\n",
        "$\\quad\\quad\\quad\\quad\\quad\\quad$...\n",
        "\n",
        "* Next is to create a function to convert the `.txt` data to a Hamiltonian that can be read by the `compute_minimum_eigenvalue()` method (for instance: H = -2(Z ^ Z ^ Z ^ Z) + 0.5(I ^ I ^ I ^ I)) we call it `convert_hamiltonian()` where you pass in the path of where you store the `.txt` file:"
      ]
    },
    {
      "cell_type": "code",
      "execution_count": null,
      "id": "8bcd376b-082e-4ab6-9722-a09db5c70a2a",
      "metadata": {
        "id": "8bcd376b-082e-4ab6-9722-a09db5c70a2a"
      },
      "outputs": [],
      "source": [
        "Paulis = []\n",
        "Weight = []\n",
        "Str = \"\"\n",
        "sc = 0\n",
        "ham = qubitOp.print_details()\n",
        "for i in range(len(ham)):\n",
        "    \n",
        "    #print(Str)\n",
        "    if (ham[i] == '\\t' or ham[i] =='\\n'):\n",
        "        if (sc%2==0):\n",
        "            Paulis.append(Str)\n",
        "            Str=\"\"\n",
        "            sc+=1\n",
        "            i+=1\n",
        "        else:\n",
        "            Weight.append(Str)\n",
        "            Str=\"\"\n",
        "            sc+=1\n",
        "            i+=1\n",
        "    else:\n",
        "        Str = Str + ham[i]\n",
        "        \n",
        "data = {'Paulis':Paulis, 'Weight':Weight}\n",
        "df = pd.DataFrame(data)\n",
        "df.to_csv(r'TSP_9.txt', header=True, index=None, sep=' ', mode='w')"
      ]
    },
    {
      "cell_type": "code",
      "execution_count": null,
      "id": "e5a1794d",
      "metadata": {
        "id": "e5a1794d"
      },
      "outputs": [],
      "source": [
        "def convert_hamiltonian(path:str):\n",
        "    H=pd.read_csv(path, sep=' ')\n",
        "    P=H['Paulis']\n",
        "    W=H['Weight']\n",
        "    def changeto(rt:str):\n",
        "        m=1\n",
        "        for i in range(len(rt)-1):\n",
        "            rt=list(rt)\n",
        "            rt.insert(m,'^')\n",
        "            m+=2\n",
        "        return ''.join(rt)\n",
        "    H=''\n",
        "    for p,w in zip(P,W):\n",
        "        x=np.real(complex(w))\n",
        "        if x<0:\n",
        "            H=H+'-{}*({})'.format(abs(x),changeto(p))\n",
        "        else:\n",
        "            H=H+'+{}*({})'.format(abs(x),changeto(p))\n",
        "    return H"
      ]
    },
    {
      "cell_type": "markdown",
      "id": "d045d0be",
      "metadata": {
        "tags": [],
        "id": "d045d0be"
      },
      "source": [
        "***\n",
        "# **Start the experiment for** $Layer\\;VQE$:\n",
        "***"
      ]
    },
    {
      "cell_type": "markdown",
      "id": "5bfad779-5dff-4b1b-bc1d-1dbb428816e1",
      "metadata": {
        "id": "5bfad779-5dff-4b1b-bc1d-1dbb428816e1"
      },
      "source": [
        "Two main concerns are the expressivity and the trainability of the chosen ansatz. First, the ansatz has to be sufficiently expressive, meaning that there should exist parameters with which the ansatz prepares a state suitably close to the solution of the problem. Second, the ansatz has to be trainable, meaning that sufficiently good parameters have to be feasible to find \n",
        "\n",
        "When we increase the size of the ansatz, the ansatz becomes more expressive, and we should have a better chance of finding the ground state and reduces the optimization overhead.\n",
        "\n",
        "Now let define our problem and run the algorithm by adding different layers to make our ansatz more expressive:"
      ]
    },
    {
      "cell_type": "code",
      "execution_count": null,
      "id": "b68d5dfe",
      "metadata": {
        "id": "b68d5dfe"
      },
      "outputs": [],
      "source": [
        "# Define variables\n",
        "H=eval(convert_hamiltonian('TSP_9.txt')) # e.g. H = -2*(Z ^ Z ^ Z ^ Z) + 0.5*(I ^ I ^ I ^ I).\n",
        "n=nodes**2 # Number of qubits.\n",
        "l=2 # Number of Layers you want to optimize (add)."
      ]
    },
    {
      "cell_type": "code",
      "execution_count": null,
      "id": "9f6c5107-9628-47c0-9ebd-91ee5fbc7b3a",
      "metadata": {
        "id": "9f6c5107-9628-47c0-9ebd-91ee5fbc7b3a"
      },
      "outputs": [],
      "source": [
        "%%time\n",
        "Lvqe=Layers_optimization(n,l,H,[200,100,500])\n",
        "print('\\n')"
      ]
    },
    {
      "cell_type": "code",
      "execution_count": null,
      "id": "f4dc39f9-cacb-40f8-a217-4dd7f612a553",
      "metadata": {
        "id": "f4dc39f9-cacb-40f8-a217-4dd7f612a553"
      },
      "outputs": [],
      "source": [
        "plt.rcParams['figure.figsize'] = (12, 8)\n",
        "plt.rcParams.update({'font.size': 20})\n",
        "for i in range(0,l+1):\n",
        "    plt.plot(Lvqe[1][i], Lvqe[2][i], linewidth=1, label='Layer {}'.format(i))\n",
        "#plt.plot(counts[-1], values[-1], linewidth=1, color=\"grey\", label='Layer{} until cv'.format(l)) # cv: convergence\n",
        "plt.plot(range(0, 700), -600101.0*np.ones(700), 'k--', linewidth=1.5, label='E_0')\n",
        "\n",
        "plt.xlabel('Number of evaluations')\n",
        "plt.ylabel('Energy')\n",
        "plt.legend(loc='upper right', fontsize=15)\n",
        "plt.show()"
      ]
    },
    {
      "cell_type": "markdown",
      "id": "a2ed07ac",
      "metadata": {
        "id": "a2ed07ac"
      },
      "source": [
        "As we can see, the line for Layer 0 is starting from a point that is far away from the exact one and then it converges. And for Layer 1 it starts near the exact solution because we fed the optimized parameters and the minimizer start with that point which already approaches the solution, then it starts its optimization and converges quickly (the small divergence is appearing because new parameters (different from 0) have been set for Layer 1)."
      ]
    },
    {
      "cell_type": "markdown",
      "id": "8211db2d-7d56-496f-8e30-6c0181c0cbe9",
      "metadata": {
        "tags": [],
        "id": "8211db2d-7d56-496f-8e30-6c0181c0cbe9"
      },
      "source": [
        "**Result for solving the TSP using Layer VQE**"
      ]
    },
    {
      "cell_type": "code",
      "execution_count": null,
      "id": "7641a94c-de4d-4927-979a-6c480ed15d70",
      "metadata": {
        "id": "7641a94c-de4d-4927-979a-6c480ed15d70"
      },
      "outputs": [],
      "source": [
        "print(\"Results after solving the TSP problem on LVQE are shown below \\n\")\n",
        "print('energy:', Lvqe[0].eigenvalue.real)\n",
        "print('time:', Lvqe[0].optimizer_time)\n",
        "print('tsp objective:', Lvqe[0].eigenvalue.real + offset)\n",
        "x = sample_most_likely(Lvqe[0].eigenstate)\n",
        "print('feasible:', tsp.tsp_feasible(x))\n",
        "z = tsp.get_tsp_solution(x)\n",
        "print('solution:', z)\n",
        "print('solution objective:', tsp.tsp_value(z, ins.w))"
      ]
    },
    {
      "cell_type": "markdown",
      "id": "44824b6c-324e-4c38-b61f-da6c8f4167ef",
      "metadata": {
        "tags": [],
        "id": "44824b6c-324e-4c38-b61f-da6c8f4167ef"
      },
      "source": [
        "***\n",
        "# **Comaprison of LVQE with Classical Eigen solver, conventional VQE and LVQE-CVaR**\n",
        "***"
      ]
    },
    {
      "cell_type": "markdown",
      "id": "c09a9053-ee5c-4f3c-a89a-431213d2a217",
      "metadata": {
        "tags": [],
        "id": "c09a9053-ee5c-4f3c-a89a-431213d2a217"
      },
      "source": [
        "## Ground State Energy Calculation using Classical Eigen Solver:"
      ]
    },
    {
      "cell_type": "code",
      "execution_count": null,
      "id": "59ee549e-3873-441c-9d6a-e6c290b7f178",
      "metadata": {
        "id": "59ee549e-3873-441c-9d6a-e6c290b7f178"
      },
      "outputs": [],
      "source": [
        "ee = NumPyMinimumEigensolver(qubitOp)\n",
        "result_exact = ee.run()\n",
        "\n",
        "print(\"Results after solving the TSP problem Classicaly are shown below \\n\")\n",
        "print('energy:', result_exact.eigenvalue.real)\n",
        "print('tsp objective:', result_exact.eigenvalue.real + offset)\n",
        "x = sample_most_likely(result_exact.eigenstate)\n",
        "print('feasible:', tsp.tsp_feasible(x))\n",
        "z = tsp.get_tsp_solution(x)\n",
        "print('solution:', z)"
      ]
    },
    {
      "cell_type": "markdown",
      "id": "5b9a045c-6bb3-44a3-b416-f167dc9d8a8a",
      "metadata": {
        "tags": [],
        "id": "5b9a045c-6bb3-44a3-b416-f167dc9d8a8a"
      },
      "source": [
        "## Ground State Energy Calculation using Conventional VQE approach:"
      ]
    },
    {
      "cell_type": "code",
      "execution_count": null,
      "id": "aab9ae7c-767c-419d-96c3-930e884183ab",
      "metadata": {
        "id": "aab9ae7c-767c-419d-96c3-930e884183ab"
      },
      "outputs": [],
      "source": [
        "# Multiple Ansatz from 0 to l Layers\n",
        "def usual_vqe(n,l,H,maxiter,shots=1024,expectation=None,one_ansatz=False,printing=True):\n",
        "    num_para=4*(n-1)\n",
        "    counts_vqe_2 = [[] for i in range(l+1)] # it stores the number of iterations for each Layer\n",
        "    values_vqe_2 = [[] for i in range(l+1)] # it stores the energy after each iteration for each Layer\n",
        "        \n",
        "    if one_ansatz==True:\n",
        "        x=l\n",
        "    else:\n",
        "        x=0\n",
        "    \n",
        "    for i in range(x,l+1):\n",
        "    \n",
        "        def store_intermediate_result_vqe(eval_count, parameters, mean, std):\n",
        "            counts_vqe_2[i].append(eval_count)\n",
        "            values_vqe_2[i].append(mean)\n",
        "    \n",
        "        if i==0:\n",
        "            params2 =  ParameterVector('θ', n)\n",
        "        else:\n",
        "            params2 =  ParameterVector('θ', n+num_para*i)\n",
        "        ansatz_vqe = Layers(params2, n,i)\n",
        "        vqe_usual = VQE(ansatz=ansatz_vqe, optimizer = COBYLA(maxiter=maxiter),max_evals_grouped=1,\n",
        "                  quantum_instance=QuantumInstance(backend=Aer.get_backend(\"qasm_simulator\"),shots=shots),callback=store_intermediate_result_vqe)\n",
        "        result_vqe = vqe_usual.compute_minimum_eigenvalue(operator=H)\n",
        "        if printing==True:\n",
        "            print('Energy by VQE with Ansatz constructed by Layer 0 to {}'.format(i),result_vqe.optimal_value)\n",
        "    return counts_vqe_2, values_vqe_2, result_vqe"
      ]
    },
    {
      "cell_type": "code",
      "execution_count": null,
      "id": "fceb67fc-fd03-49a1-806a-2fe3d5afdf58",
      "metadata": {
        "id": "fceb67fc-fd03-49a1-806a-2fe3d5afdf58"
      },
      "outputs": [],
      "source": [
        "%%time\n",
        "l=4\n",
        "vqe_test=usual_vqe(n,l,H,maxiter=500)\n",
        "print('\\n')"
      ]
    },
    {
      "cell_type": "code",
      "execution_count": null,
      "id": "c4d769b2-1e55-485a-a054-c005e7c5f868",
      "metadata": {
        "id": "c4d769b2-1e55-485a-a054-c005e7c5f868"
      },
      "outputs": [],
      "source": [
        "plt.rcParams['figure.figsize'] = (12, 8)\n",
        "plt.rcParams.update({'font.size': 20})\n",
        "for i in range(0,l+1):\n",
        "    plt.plot(vqe_test[0][i], vqe_test[1][i], linewidth=1, label='Layer {}'.format(i))\n",
        "plt.plot(range(0, 500), -600101.0*np.ones(500), 'k--', linewidth=1.5, label='E_0')\n",
        "\n",
        "plt.xlabel('Number of evaluations')\n",
        "plt.ylabel('Energy')\n",
        "plt.legend(loc='upper right', fontsize=15)\n",
        "plt.show()"
      ]
    },
    {
      "cell_type": "markdown",
      "id": "78a223c1-b269-4240-997c-62cd3bd67eae",
      "metadata": {
        "id": "78a223c1-b269-4240-997c-62cd3bd67eae"
      },
      "source": [
        "The Conventional VQE approach gets stuck in local minima thus giving incorrect ground energies for Hamiltonain. Furthermore, we have tested the Conventional VQE on 5 different ansatz  which performs poorly for the given TSP problem as the ansatz becomes more expressive. "
      ]
    },
    {
      "cell_type": "markdown",
      "id": "3fc2fcfc-6dd8-4d6e-8787-70eae90cc146",
      "metadata": {
        "tags": [],
        "id": "3fc2fcfc-6dd8-4d6e-8787-70eae90cc146"
      },
      "source": [
        "# Ground State Energy Calculation using LVQE-CVaR approach"
      ]
    },
    {
      "cell_type": "code",
      "execution_count": null,
      "id": "086f9e2c-2579-4813-84fa-30d253dadd5c",
      "metadata": {
        "id": "086f9e2c-2579-4813-84fa-30d253dadd5c"
      },
      "outputs": [],
      "source": [
        "%%time\n",
        "l=3\n",
        "expectation = CVaRExpectation(0.5, PauliExpectation())# CVAR expectation.\n",
        "Lvqe_cvar=Layers_optimization(n,l,H,[100,100,100,100], expectation=expectation)\n",
        "print('\\n')"
      ]
    },
    {
      "cell_type": "markdown",
      "id": "280a97a2-4dc8-4c48-ab59-f7dfc13737dd",
      "metadata": {
        "id": "280a97a2-4dc8-4c48-ab59-f7dfc13737dd"
      },
      "source": [
        "It can be seen that our proposed LVQE-CVaR approach reach the optimal solution (which is verified using a Classical Eigen Solver) most of the time and with only a few iterations. Hence, the CVAR approach is a powerful objective function."
      ]
    },
    {
      "cell_type": "code",
      "execution_count": null,
      "id": "e5140347-9a93-4064-9c17-de7f197cee10",
      "metadata": {
        "id": "e5140347-9a93-4064-9c17-de7f197cee10"
      },
      "outputs": [],
      "source": [
        "plt.rcParams['figure.figsize'] = (12, 8)\n",
        "plt.rcParams.update({'font.size': 20})\n",
        "for i in range(0,l+1):\n",
        "    plt.plot(Lvqe_cvar[1][i], Lvqe_cvar[2][i], linewidth=1, label='Layer {}'.format(i))\n",
        "plt.plot(range(0, 120), -600101.0*np.ones(120), 'k--', linewidth=1.5, label='E_0')\n",
        "\n",
        "plt.xlabel('Number of evaluations')\n",
        "plt.ylabel('Energy')\n",
        "plt.legend(loc='upper right', fontsize=15)\n",
        "plt.show()"
      ]
    },
    {
      "cell_type": "markdown",
      "id": "7378b576-9ffc-4045-9cde-0593806e875d",
      "metadata": {
        "id": "7378b576-9ffc-4045-9cde-0593806e875d"
      },
      "source": [
        "**Result for solving the TSP using L-VQE-CVAR**"
      ]
    },
    {
      "cell_type": "code",
      "execution_count": null,
      "id": "18effa33-f2d8-4e4b-8383-45695c66711f",
      "metadata": {
        "id": "18effa33-f2d8-4e4b-8383-45695c66711f"
      },
      "outputs": [],
      "source": [
        "print(\"Results after solving the TSP problem on LVQE-CVaR are shown below \\n\")\n",
        "print('energy:', Lvqe_cvar[0].eigenvalue.real)\n",
        "print('time:', Lvqe_cvar[0].optimizer_time)\n",
        "print('tsp objective:', Lvqe_cvar[0].eigenvalue.real + offset)\n",
        "x = sample_most_likely(Lvqe_cvar[0].eigenstate)\n",
        "print('feasible:', tsp.tsp_feasible(x))\n",
        "z = tsp.get_tsp_solution(x)\n",
        "print('solution:', z)\n",
        "print('solution objective:', tsp.tsp_value(z, ins.w))"
      ]
    },
    {
      "cell_type": "markdown",
      "id": "65800b80-1b60-4e16-b9bd-080a80b13b92",
      "metadata": {
        "id": "65800b80-1b60-4e16-b9bd-080a80b13b92"
      },
      "source": [
        "# Multiple qubits: LVQE vs VQE:\n",
        "\n",
        "Below we are going to compare Layer VQE with VQE for multiple numbers of qubits (4,9, and 16 qubits, each case is shown in a plot). Layer VQE we are going to optimize the layers as: Layer 0, Layer 0,1, and then Layer 0,1,2. For VQE we will fix the Ansatz which will contain Layer 0 + Layer 1 + Layer 2 (as shown and the second figure above)."
      ]
    },
    {
      "cell_type": "code",
      "execution_count": null,
      "id": "6e7379ad-02b3-4ac8-a9d0-778d3e719717",
      "metadata": {
        "id": "6e7379ad-02b3-4ac8-a9d0-778d3e719717"
      },
      "outputs": [],
      "source": [
        "H_qubit=['TSP_4.txt','TSP_9.txt','TSP_16.txt']\n",
        "c=0\n",
        "l=2\n",
        "for k in range(2,5):\n",
        "    # k is the number of nodes\n",
        "    H_eval=eval(convert_hamiltonian(H_qubit[c]))\n",
        "    c+=1\n",
        "    Layer=Layers_optimization(k**2,l,H_eval,[100,200,500],printing=False)\n",
        "    vqe=usual_vqe(k**2,l,H_eval,maxiter=500, one_ansatz=True,printing=False)\n",
        "    \n",
        "    plt.rcParams['figure.figsize'] = (12, 8)\n",
        "    plt.rcParams.update({'font.size': 20})\n",
        "    for i in range(0,2+1):\n",
        "        plt.plot(Layer[1][i], Layer[2][i], linewidth=1, label='Layer {}'.format(i))\n",
        "    plt.plot(vqe[0][l], vqe[1][l],linewidth=1, color=\"grey\", label='VQE')\n",
        "    if k==2:\n",
        "        plt.plot(range(0, 550),-199952.0*np.ones(550), 'k--', linewidth=1.5, label='E_0')\n",
        "    elif k==3:\n",
        "        plt.plot(range(0, 550),-600101.0*np.ones(550), 'k--', linewidth=1.5, label='E_0')\n",
        "    elif k==4:\n",
        "        plt.plot(range(0, 550),-1600560.0*np.ones(550), 'k--', linewidth=1.5, label='E_0')\n",
        "    \n",
        "    plt.xlabel('Number of evaluations')\n",
        "    plt.ylabel('Energy')\n",
        "    plt.legend(loc='upper right', fontsize=15)\n",
        "    plt.show()"
      ]
    },
    {
      "cell_type": "markdown",
      "id": "fb53cd69-783c-48a5-a8ed-0ea0d44c871d",
      "metadata": {
        "id": "fb53cd69-783c-48a5-a8ed-0ea0d44c871d"
      },
      "source": [
        "VQE starts overshooting the optimal value by increasing the number of qubits and that because the optimizer has to optimize a large number of parameters at once, whereas Layer VQE optimizes layer by layer which helps to converge to the optimal solution."
      ]
    },
    {
      "cell_type": "code",
      "execution_count": null,
      "id": "ca03ce64-8f11-4940-b0d2-872e2c77d3b6",
      "metadata": {
        "id": "ca03ce64-8f11-4940-b0d2-872e2c77d3b6"
      },
      "outputs": [],
      "source": [
        ""
      ]
    }
  ],
  "metadata": {
    "kernelspec": {
      "display_name": "Qiskit v0.29.0",
      "language": "python",
      "name": "python3"
    },
    "language_info": {
      "codemirror_mode": {
        "name": "ipython",
        "version": 3
      },
      "file_extension": ".py",
      "mimetype": "text/x-python",
      "name": "python",
      "nbconvert_exporter": "python",
      "pygments_lexer": "ipython3",
      "version": "3.8.10"
    },
    "colab": {
      "name": "Reduced Runtime Version of  Layer_VQE.ipynb - SiddharthC",
      "provenance": [],
      "collapsed_sections": []
    }
  },
  "nbformat": 4,
  "nbformat_minor": 5
}