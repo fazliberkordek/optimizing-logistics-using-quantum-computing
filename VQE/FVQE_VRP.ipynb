{
 "cells": [
  {
   "cell_type": "markdown",
   "id": "eadcc260-1c12-4ac3-a623-330241074f74",
   "metadata": {},
   "source": [
    "# [Filtering VQE](https://arxiv.org/abs/2106.10055) - a Quantum Heuristic for solving VRP"
   ]
  },
  {
   "cell_type": "markdown",
   "id": "c9a697cb-2958-44c4-9337-887435a334c7",
   "metadata": {},
   "source": [
    "***\n",
    "### Authors: **Walid El Maouaki** and **Atharva Vidwans**\n",
    "***"
   ]
  },
  {
   "cell_type": "markdown",
   "id": "4e745489-1aee-4c32-86e7-3e192be0e1dd",
   "metadata": {},
   "source": [
    "### **Theory**"
   ]
  },
  {
   "cell_type": "markdown",
   "id": "be5e74c5-9152-48fd-a1a0-a188b1e7306d",
   "metadata": {},
   "source": [
    "The aim of this notebook is to implement the Filtering VQE algorithm for solving the VRP. We will not here explain all the algorithm, so just refer to [the original article](https://arxiv.org/abs/2106.10055) to understand it properly. Essentially, a regular VQE would use the expectation value of a hamiltonian $H$ on a quantum parametriced circuit in order to try and minimize that expectation value. What the Filtering VQE will do is use that parametriced circuit in order to approximate the action of some operator $F_\\tau = f(H, \\tau)$ that effectively projects a given wavefunction into lower energy eigenstates, thus, filtering the higher energy eigenstates."
   ]
  },
  {
   "cell_type": "markdown",
   "id": "2f25dd27-5d3f-4c99-a0f5-675e2d818e72",
   "metadata": {},
   "source": [
    "Here, we will not cover how the VRP is formulated and solved in detail, since that is already exposed on [the Qiskit tutorial on the VRP](https://qiskit.org/documentation/tutorials/optimization/7_examples_vehicle_routing.html). However, we add an little summary of the used notation\n",
    "\n",
    "\n",
    "---\n",
    "Mathematically speaking, the vehicle routing problem (VRP) is a combinatorial problem, wherein the best routes from a depot to a number of clients and back to the depot are sought, given a number of available vehicles. There are a number of formulations possible, extending a number of formulations of the traveling salesman problem [Applegate et al, 2006]. Here, we present a formulation known as MTZ [Miller, Tucker, Zemlin, 1960]. \n",
    "\n",
    "Let $n$ be the number of clients (indexed as $1,\\dots,n$), and $K$ be the number of available vehicles. Let $x_{ij} = \\{0,1\\}$ be the binary decision variable which, if it is $1$, activates the segment from node $i$ to node $j$. The node index runs from $0$ to $n$, where $0$ is (by convention) the depot. There are twice as many distinct decision variables as edges. For example, in a fully connected graph, there are $n(n+1)$ binary decision variables. \n",
    "\n",
    "If two nodes $i$ and $j$ have a link from $i$ to $j$, we write $i \\sim j$. We also denote with $\\delta(i)^+$ the set of nodes to which $i$ has a link, i.e., $j \\in \\delta(i)^+$ if and only if $i \\sim j$. Similarly, we denote with \n",
    "$\\delta(i)^-$ the set of nodes which are connected to $i$, in the sense that $j \\in \\delta(i)^-$ if and only if $j \\sim i$. \n",
    "---\n",
    "\n",
    "\n",
    "\n",
    "Thus, there will be a variable $x_{ij}$ that will tell if there is a vehicle going from node $i$ to node $j$. Our way to obtain a solution is to consider a vector ${\\bf z}$ containing all that information\n",
    "\n",
    "$$\n",
    "{\\bf z} = [x_{01},x_{02},\\ldots,x_{10}, x_{12},\\ldots,x_{n(n-1)}]^T,\n",
    "$$\n",
    "\n",
    "and, as $x_{ij}$ is a binary variable, that vector can be identified as a bitstring. This is why it makes sense to try and map the problem into a QUBO and then into an Ising Hamiltonian (it's diagonal); our solution can be depicted as one of the eigenstates that will, in fact, be one of the computational basis states.\n",
    "\n",
    "In a very simple exercise, imagine that we are given the solution\n",
    "$$\n",
    "{\\bf z} = [x_{01},x_{10}]^T = [1,1]^T,\n",
    "$$\n",
    "Thus, $x_{01}=1$ means that there is a vehicle going from the depot to node $1$ and $x_{10}=1$ means that there is a vehicle going from node $1$ to the depot. There are no more variables and that means that there is only $K=1$ vehicle visiting a single depot. Quite a trivial example."
   ]
  },
  {
   "cell_type": "markdown",
   "id": "d1cd4ef4-17db-4502-914d-c5181df99dbb",
   "metadata": {},
   "source": [
    "#### **Importing standard Qiskit libraries and other necessary modules**"
   ]
  },
  {
   "cell_type": "code",
   "execution_count": 1,
   "id": "ed85b5f6-b755-411c-876b-bab2e9370506",
   "metadata": {},
   "outputs": [
    {
     "name": "stdout",
     "output_type": "stream",
     "text": [
      "Requirement already satisfied: cplex in /opt/conda/lib/python3.8/site-packages (20.1.0.1)\n"
     ]
    },
    {
     "name": "stderr",
     "output_type": "stream",
     "text": [
      "/opt/conda/lib/python3.8/site-packages/qiskit/aqua/__init__.py:86: DeprecationWarning: The package qiskit.aqua is deprecated. It was moved/refactored to qiskit-terra For more information see <https://github.com/Qiskit/qiskit-aqua/blob/main/README.md#migration-guide>\n",
      "  warn_package('aqua', 'qiskit-terra')\n"
     ]
    }
   ],
   "source": [
    "!pip install cplex \n",
    "from time import process_time\n",
    "import numpy as np\n",
    "# Visualization tool\n",
    "from qiskit.visualization import *\n",
    "import matplotlib.pyplot as plt\n",
    "import matplotlib.axes as axes\n",
    "\n",
    "import itertools\n",
    "import pandas as pd\n",
    "import networkx as nx\n",
    "import time\n",
    "import math\n",
    "\n",
    "from qiskit.algorithms.optimizers import ADAM, CG, GSLS, NELDER_MEAD, NFT, POWELL, SPSA, TNC, COBYLA, L_BFGS_B, SLSQP, AQGD, P_BFGS, GradientDescent\n",
    "from qiskit import QuantumCircuit, ClassicalRegister, QuantumRegister, Aer, transpile, execute\n",
    "from qiskit.utils  import QuantumInstance, algorithm_globals\n",
    "from qiskit.circuit import ParameterVector\n",
    "from qiskit.opflow import Z, I, X, Y, ListOp, PauliExpectation, CVaRExpectation, StateFn, CircuitSampler, CircuitStateFn, ListOp\n",
    "\n",
    "from qiskit.algorithms import VQE, QAOA\n",
    "\n",
    "import plotly.graph_objects as go\n",
    "\n",
    "from qiskit import BasicAer\n",
    "from qiskit_optimization import QuadraticProgram\n",
    "from qiskit_optimization.algorithms import MinimumEigenOptimizer\n",
    "from qiskit.aqua.operators.expectations import CVaRExpectation, PauliExpectation\n",
    "\n",
    "import qiskit.tools.jupyter\n",
    "# %qiskit_version_table\n",
    "\n",
    "# Ignore Deprecation Warnings\n",
    "import warnings\n",
    "warnings.filterwarnings(\"ignore\")"
   ]
  },
  {
   "cell_type": "markdown",
   "id": "5f27b82b-6674-49de-ad0e-ef91e4a98abe",
   "metadata": {
    "tags": []
   },
   "source": [
    "## We have defined 3 classes:\n",
    "**Class Initializer** \n",
    "- *GenerateInstance* : This method initializes the variables i.e. the number of nodes(including the depot)-n  and number of vehicles-K  \n",
    "\n",
    "**Class ClassicalOptimizer**\n",
    "- For a classical solution, we use IBM ILOG CPLEX. CPLEX is able to find the exact solution of this problem. We first define a ClassicalOptimizer class that encodes the problem in a way that CPLEX can solve, and then instantiate the class and solve it\n",
    "\n",
    "**Class QuantumOptimizer**\n",
    "- *binary_representation* : encodes the problem (M) into a QP terms (that’s basically linear algebra); \n",
    "- *construct_problem* : constructs a QUBO optimization problem as an instance of QuadraticProgram"
   ]
  },
  {
   "cell_type": "code",
   "execution_count": 2,
   "id": "14137913-5458-4227-acc2-742e8a883297",
   "metadata": {},
   "outputs": [],
   "source": [
    "# Classes for solving the VRP problem\n",
    "\n",
    "class Initializer():\n",
    "\n",
    "    def __init__(self, n, b):\n",
    "        self.n = n\n",
    "        self.b = b\n",
    "\n",
    "    def generate_instance(self):\n",
    "\n",
    "        n = self.n\n",
    "        b = self.b\n",
    "        \n",
    "        # np.random.seed(33)\n",
    "        np.random.seed(100*n + b)\n",
    "\n",
    "        xc = (np.random.rand(n) - 0.5) * 50\n",
    "        yc = (np.random.rand(n) - 0.5) * 50\n",
    "\n",
    "        instance = np.zeros([n, n])\n",
    "        for ii in range(0, n):\n",
    "            for jj in range(ii + 1, n):\n",
    "                instance[ii, jj] = (xc[ii] - xc[jj]) ** 2 + (yc[ii] - yc[jj]) ** 2\n",
    "                instance[jj, ii] = instance[ii, jj]\n",
    "\n",
    "        return xc, yc, instance\n",
    "    \n",
    "    \n",
    "try:\n",
    "    import cplex\n",
    "    from cplex.exceptions import CplexError\n",
    "except: \n",
    "    print(\"Warning: Cplex not found.\")\n",
    "\n",
    "class ClassicalOptimizer:\n",
    "\n",
    "    def __init__(self, instance,n,K):\n",
    "\n",
    "        self.instance = instance\n",
    "        self.n = n  # number of nodes\n",
    "        self.K = K  # number of vehicles\n",
    "\n",
    "\n",
    "    def compute_allowed_combinations(self):\n",
    "        f = math.factorial\n",
    "        return f(self.n) / f(self.K) / f(self.n-self.K)\n",
    "\n",
    "\n",
    "    def cplex_solution(self):\n",
    "\n",
    "        # refactoring\n",
    "        instance = self.instance\n",
    "        n = self.n\n",
    "        K = self.K\n",
    "\n",
    "        my_obj = list(instance.reshape(1, n**2)[0])+[0. for x in range(0,n-1)]\n",
    "        my_ub = [1 for x in range(0,n**2+n-1)]\n",
    "        my_lb = [0 for x in range(0,n**2)] + [0.1 for x in range(0,n-1)]\n",
    "        my_ctype = \"\".join(['I' for x in range(0,n**2)]) + \"\".join(['C' for x in range(0,n-1)])\n",
    "\n",
    "        my_rhs = 2*([K] + [1 for x in range(0,n-1)]) + [1-0.1 for x in range(0,(n-1)**2-(n-1))] + [0 for x in range(0,n)]\n",
    "        my_sense = \"\".join(['E' for x in range(0,2*n)]) + \"\".join(['L' for x in range(0,(n-1)**2-(n-1))])+\"\".join(['E' for x in range(0,n)])\n",
    "\n",
    "        try:\n",
    "            my_prob = cplex.Cplex()\n",
    "            self.populatebyrow(my_prob,my_obj,my_ub,my_lb,my_ctype,my_sense,my_rhs)\n",
    "\n",
    "            my_prob.solve()\n",
    "\n",
    "        except CplexError as exc:\n",
    "            print(exc)\n",
    "            return\n",
    "\n",
    "        x = my_prob.solution.get_values()\n",
    "        x = np.array(x)\n",
    "        cost = my_prob.solution.get_objective_value()\n",
    "\n",
    "        return x,cost\n",
    "    \n",
    "\n",
    "    def populatebyrow(self,prob,my_obj,my_ub,my_lb,my_ctype,my_sense,my_rhs):\n",
    "\n",
    "        n = self.n\n",
    "    \n",
    "        prob.objective.set_sense(prob.objective.sense.minimize)\n",
    "        prob.variables.add(obj = my_obj, lb = my_lb, ub = my_ub, types = my_ctype)\n",
    "    \n",
    "        prob.set_log_stream(None)\n",
    "        prob.set_error_stream(None)\n",
    "        prob.set_warning_stream(None)\n",
    "        prob.set_results_stream(None)\n",
    "\n",
    "        rows = []\n",
    "        for ii in range(0,n):\n",
    "            col = [x for x in range(0+n*ii,n+n*ii)]\n",
    "            coef = [1 for x in range(0,n)]\n",
    "            rows.append([col, coef])\n",
    "\n",
    "        for ii in range(0,n):\n",
    "            col = [x for x in range(0+ii,n**2,n)]\n",
    "            coef = [1 for x in range(0,n)]\n",
    "\n",
    "            rows.append([col, coef])\n",
    "\n",
    "        # Sub-tour elimination constraints:\n",
    "        for ii in range(0, n):\n",
    "            for jj in range(0,n):\n",
    "                if (ii != jj)and(ii*jj>0):\n",
    "\n",
    "                    col = [ii+(jj*n), n**2+ii-1, n**2+jj-1]\n",
    "                    coef = [1, 1, -1]\n",
    "\n",
    "                    rows.append([col, coef])\n",
    "\n",
    "        for ii in range(0,n):\n",
    "            col = [(ii)*(n+1)]\n",
    "            coef = [1]\n",
    "            rows.append([col, coef])\n",
    "\n",
    "        prob.linear_constraints.add(lin_expr=rows, senses=my_sense, rhs=my_rhs)\n",
    "\n",
    "        \n",
    "\n",
    "class QuantumOptimizer:\n",
    "\n",
    "    def __init__(self, instance, n, K):\n",
    "\n",
    "        self.instance = instance\n",
    "        self.n = n\n",
    "        self.K = K\n",
    "\n",
    "    def binary_representation(self,x_sol=0):\n",
    "\n",
    "        instance = self.instance\n",
    "        n = self.n\n",
    "        K = self.K\n",
    "\n",
    "        A = np.max(instance) * 100  # A parameter of cost function\n",
    "\n",
    "        # Determine the weights w\n",
    "        instance_vec = instance.reshape(n ** 2)\n",
    "        w_list = [instance_vec[x] for x in range(n ** 2) if instance_vec[x] > 0]\n",
    "        w = np.zeros(n * (n - 1))\n",
    "        for ii in range(len(w_list)):\n",
    "            w[ii] = w_list[ii]\n",
    "\n",
    "        # Some variables I will use\n",
    "        Id_n = np.eye(n)\n",
    "        Im_n_1 = np.ones([n - 1, n - 1])\n",
    "        Iv_n_1 = np.ones(n)\n",
    "        Iv_n_1[0] = 0\n",
    "        Iv_n = np.ones(n-1)\n",
    "        neg_Iv_n_1 = np.ones(n) - Iv_n_1\n",
    "\n",
    "        v = np.zeros([n, n*(n-1)])\n",
    "        for ii in range(n):\n",
    "            count = ii-1\n",
    "            for jj in range(n*(n-1)):\n",
    "\n",
    "                if jj//(n-1) == ii:\n",
    "                    count = ii\n",
    "\n",
    "                if jj//(n-1) != ii and jj%(n-1) == count:\n",
    "                    v[ii][jj] = 1.\n",
    "\n",
    "        vn = np.sum(v[1:], axis=0)\n",
    "\n",
    "        # Q defines the interactions between variables\n",
    "        Q = A*(np.kron(Id_n, Im_n_1) + np.dot(v.T, v))\n",
    "\n",
    "        # g defines the contribution from the individual variables\n",
    "        g = w - 2 * A * (np.kron(Iv_n_1,Iv_n) + vn.T) - \\\n",
    "                2 * A * K * (np.kron(neg_Iv_n_1, Iv_n) + v[0].T)\n",
    "\n",
    "        # c is the constant offset\n",
    "        c = 2 * A * (n-1) + 2 * A * (K ** 2)\n",
    "\n",
    "        try:\n",
    "            max(x_sol)\n",
    "            # Evaluates the cost distance from a binary representation of a path\n",
    "            fun = lambda x: np.dot(np.around(x), np.dot(Q, np.around(x))) + np.dot(g, np.around(x)) + c\n",
    "            cost = fun(x_sol)\n",
    "        except:\n",
    "            cost = 0\n",
    "\n",
    "        return Q, g, c, cost\n",
    "\n",
    "    def construct_problem(self, Q, g, c) -> QuadraticProgram:\n",
    "        qp = QuadraticProgram()\n",
    "        for i in range(n * (n - 1)):\n",
    "            qp.binary_var(str(i))\n",
    "        qp.objective.quadratic = Q\n",
    "        qp.objective.linear = g\n",
    "        qp.objective.constant = c\n",
    "        return qp\n",
    "    \n"
   ]
  },
  {
   "cell_type": "markdown",
   "id": "d623deaa-0eed-4e15-aa05-94ddbc945ce5",
   "metadata": {},
   "source": [
    "### Initialize the Classical Optimizer\n",
    "- The below call initializes the classical optimizer to calcualte the Classical Cost and Classical solution. \n",
    "- Further, we also construct the Hamiltonian for given n and K values. "
   ]
  },
  {
   "cell_type": "code",
   "execution_count": 3,
   "id": "dfdf229c-3389-4602-a773-dda4b8359471",
   "metadata": {},
   "outputs": [],
   "source": [
    "### Problem definition\n",
    "n= 2 # number of nodes + depot (n+1)\n",
    "K= 1 # number of vehicles\n",
    "b= 0\n",
    "\n",
    "initializer = Initializer(n,b)\n",
    "xc, yc, instance = initializer.generate_instance()\n",
    "\n",
    "classical_optimizer = ClassicalOptimizer(instance,n,K)\n",
    "\n",
    "x = None\n",
    "z = None\n",
    "try:\n",
    "    x, classical_cost = classical_optimizer.cplex_solution()\n",
    "    # Put the solution in the z variable\n",
    "    z = [x[ii] for ii in range(n**2) if ii//n != ii%n]\n",
    "    # Print the solution\n",
    "except: \n",
    "    pass\n",
    "\n",
    "algorithm_globals.massive=True\n",
    "# Instantiate the quantum optimizer class with parameters: \n",
    "quantum_optimizer = QuantumOptimizer(instance, n, K)\n",
    "\n",
    "try:\n",
    "    if z is not None:\n",
    "        Q, g, c, binary_cost = quantum_optimizer.binary_representation(x_sol = z)\n",
    "    else:\n",
    "        Q, g, c, binary_cost = quantum_optimizer.binary_representation()\n",
    "except NameError as e:\n",
    "    pass\n",
    "\n",
    "qp = quantum_optimizer.construct_problem(Q, g, c)\n",
    "\n",
    "quantum_instance = QuantumInstance(BasicAer.get_backend('qasm_simulator'),\n",
    "                                           seed_simulator=algorithm_globals.random_seed,\n",
    "                                           seed_transpiler=algorithm_globals.random_seed)\n",
    "\n",
    "vqe = VQE(quantum_instance=quantum_instance)\n",
    "optimizer = MinimumEigenOptimizer(min_eigen_solver=vqe)\n",
    "H, offset = optimizer._convert(qp, optimizer._converters).to_ising()\n",
    "#print(H) ## Uncomment this line to view the Hamiltonian\n"
   ]
  },
  {
   "cell_type": "code",
   "execution_count": 4,
   "id": "faa6a250-392e-4af2-bf42-b900d0b51372",
   "metadata": {},
   "outputs": [],
   "source": [
    "def Ansatz(par, N, p=1):\n",
    "    qc = QuantumCircuit(N)\n",
    "    # Initial layer\n",
    "    for i in range(N):\n",
    "        qc.ry(par[i], i)\n",
    "        \n",
    "    for layer in range(p):\n",
    "        par_counter = N+2*(N-1)*layer\n",
    "    # Repeteable layer. To do the layer VQE thing, define this unit as a separate function\n",
    "        for i in range(N//2):\n",
    "            j = 2*i\n",
    "            qc.cx(j, j+1)\n",
    "            qc.ry(par[j+par_counter], j)\n",
    "            qc.ry(par[j+1+par_counter], j+1)\n",
    "\n",
    "        for i in range(N//2):\n",
    "            j = 2*i\n",
    "            if j+2<N: \n",
    "                qc.cx(j+1, j+2)\n",
    "                qc.ry(par[N-N%2+j+1+par_counter], j+2)\n",
    "                qc.ry(par[N-N%2+j+par_counter], j+1)\n",
    "    return qc"
   ]
  },
  {
   "cell_type": "markdown",
   "id": "fd7fb04e-c457-4093-ba9e-da0b063b6427",
   "metadata": {},
   "source": [
    "We need to define some filtering operator. We will consider $F_\\tau = \\tau I - \\mathcal{H}$ for a constant $\\tau \\ge E_\\mathrm{max}$ since it's a very simple one that is indeed equivalent to a regular VQE. \n",
    "\n",
    "***\n",
    "\n",
    "Next, we would have to define our objective function, which is\n",
    "\n",
    "\\begin{equation}\n",
    "\\begin{aligned}\n",
    "\\mathcal{C}_{t}(\\boldsymbol{\\theta}) &=\\frac{1}{2} \\||\\psi(\\boldsymbol{\\theta})\\rangle-\\left|F_{t} \\psi_{t-1}\\right\\rangle \\|^{2} \\\\\n",
    "&=1-\\frac{\\operatorname{Re}\\left\\langle\\psi_{t-1}\\left|F_{t}\\right| \\psi(\\boldsymbol{\\theta})\\right\\rangle}{\\sqrt{\\left\\langle F_{t}^{2}\\right\\rangle_{\\psi_{t-1}}}}\n",
    "\\end{aligned}\n",
    "\\end{equation}\n",
    "\n",
    "However, given that the gradient descent update is written as\n",
    "\n",
    "\\begin{equation}\n",
    "\\boldsymbol{\\theta}_{t}=\\boldsymbol{\\theta}_{t-1}-\\left.\\eta \\sum_{j=1}^{m} \\frac{\\partial \\mathcal{C}_{t}(\\boldsymbol{\\theta})}{\\partial \\theta_{j}}\\right|_{\\boldsymbol{\\theta}_{t-1}} \\boldsymbol{e}_{j},\n",
    "\\end{equation}\n",
    "\n",
    "and we have an analytic expression for those derivatives\n",
    "\n",
    "\\begin{equation}\n",
    "\\left.\\frac{\\partial \\mathcal{C}_{t}(\\boldsymbol{\\theta})}{\\partial \\theta_{j}}\\right|_{\\boldsymbol{\\theta}_{t-1}}=-\\frac{\\left\\langle F_{t}\\right\\rangle_{\\psi_{t-1}^{j}}-\\left\\langle F_{t}\\right\\rangle_{\\psi_{t-1}^{j-}}}{4 \\sqrt{\\left\\langle F_{t}^{2}\\right\\rangle_{\\psi_{t-1}}}},\n",
    "\\end{equation}\n",
    "\n",
    "there is no need to evaluate that objective function $C_t(\\theta)$.\n",
    "\n",
    "***\n",
    "\n"
   ]
  },
  {
   "cell_type": "code",
   "execution_count": 5,
   "id": "2e308a07-771b-498b-b00c-0dbe5d5c9335",
   "metadata": {},
   "outputs": [],
   "source": [
    "def filtering_function6(E, c):\n",
    "    return (c-E)\n",
    "\n",
    "def bitstring_energy(H, bitstring):\n",
    "    \n",
    "    bitstring = bitstring[::-1]    \n",
    "    #print(bitstring)\n",
    "    spins = np.array([(-1)**(b == '1') for b in bitstring])\n",
    "    #print(spins)\n",
    "    value = 0\n",
    "          \n",
    "    for i, coef in enumerate(H.coeffs):\n",
    "        #print(\"i is\",i)\n",
    "        weight = np.real(coef)\n",
    "        indices = np.where(H.primitive.table.Z[i])\n",
    "        #print(\"indices are:\",indices[0])\n",
    "        #print(\"------------\")\n",
    "        value += weight * np.prod(spins[indices])\n",
    "    \n",
    "    return value\n",
    "\n",
    "\n",
    "def expectation(H,theta,n,l,shots,tau,filtering,power):\n",
    "    \n",
    "    circuit=Ansatz(theta,n,l)\n",
    "    circuit.measure_all()\n",
    "        \n",
    "    backend = Aer.get_backend('qasm_simulator')\n",
    "    job = execute(circuit, backend, shots=shots)\n",
    "    result = job.result()\n",
    "    counts = result.get_counts()\n",
    "\n",
    "    F_exp=0\n",
    "    for bit,prob in counts.items():\n",
    "        \n",
    "        if filtering ==True:\n",
    "            if power==True:\n",
    "                F_exp+=(prob*filtering_function6(bitstring_energy(H, bit), tau)**2)\n",
    "            else:\n",
    "                F_exp+=(prob*filtering_function6(bitstring_energy(H, bit), tau))\n",
    "        else:\n",
    "            F_exp+=(prob*energies[i])\n",
    "\n",
    "    return F_exp/shots\n",
    "\n",
    "def gradient(op, n,l, shots,tau):\n",
    "    def gradient_fn(params):\n",
    "        grad_list=[]\n",
    "        num_params = len(params)\n",
    "        \n",
    "        # Here, we apply the parameter shift-rule\n",
    "        param_sets_to_eval = params + np.concatenate(\n",
    "        (\n",
    "            np.eye(num_params) * np.pi / 2,  # copy of the parameters with the positive shift\n",
    "            -np.eye(num_params) * np.pi / 2,\n",
    "        ),  # copy of the parameters with the negative shift\n",
    "        axis=0,)\n",
    "        \n",
    "        denominator=4*np.sqrt(expectation(op,params,n,l,shots,tau,True,True))\n",
    "        for i in range(len(params)):\n",
    "            numerator=expectation(op,param_sets_to_eval[i],n,l,shots,tau,True,False)-expectation(op,param_sets_to_eval[i+len(params)],n,l,shots,tau,True,False)\n",
    "            grad_list.append(numerator/denominator)\n",
    "        return np.array(grad_list)\n",
    "    return gradient_fn\n",
    "\n",
    "def qiskit_expectation(op,n,l,shots):\n",
    "    def q_exp(theta):\n",
    "        psi = CircuitStateFn(Ansatz(theta,n,l))\n",
    "        # define your backend or quantum instance (where you can add settings)\n",
    "        backend = Aer.get_backend('qasm_simulator') \n",
    "        q_instance = QuantumInstance(backend, shots=shots)\n",
    "        # define the state to sample\n",
    "        measurable_expression = StateFn(op, is_measurement=True).compose(psi) \n",
    "        # convert to expectation value\n",
    "        expectation = PauliExpectation().convert(measurable_expression)  \n",
    "        # get state sampler (you can also pass the backend directly)\n",
    "        sampler = CircuitSampler(q_instance).convert(expectation) \n",
    "        ##print('Math:', psi.adjoint().compose(op).compose(psi).eval().real)\n",
    "        # evaluate\n",
    "        return sampler.eval().real\n",
    "    return q_exp"
   ]
  },
  {
   "cell_type": "markdown",
   "id": "996a7c64-9b50-4697-96bc-449f66ad5de0",
   "metadata": {},
   "source": [
    "Callback function for cost values which later can be used for visualization purpose"
   ]
  },
  {
   "cell_type": "code",
   "execution_count": 6,
   "id": "362464ab-a4ae-4adc-b3d0-b44fb536fcc2",
   "metadata": {},
   "outputs": [],
   "source": [
    "F = c * (I^H.num_qubits) - H\n",
    "fvqe_cost, fvqe_iter=[],[]\n",
    "def callback(nfevs, x_next, cost, stepsize):\n",
    "    fvqe_cost.append(cost)\n",
    "    fvqe_iter.append(nfevs)"
   ]
  },
  {
   "cell_type": "markdown",
   "id": "d14e6f8d-b233-4df1-9ecd-5436c059f903",
   "metadata": {},
   "source": [
    "FVQE algorithm"
   ]
  },
  {
   "cell_type": "code",
   "execution_count": 9,
   "id": "e20f2e56-7081-4fa0-86d2-7626e91b7700",
   "metadata": {},
   "outputs": [],
   "source": [
    "shots=1024\n",
    "num_qubits = H.num_qubits\n",
    "num_para=2*(num_qubits-1) # The number of parameters in each Layer (except Layer 0).\n",
    "c=9\n",
    "layers=1"
   ]
  },
  {
   "cell_type": "code",
   "execution_count": 12,
   "id": "f72b51cb-09e1-4523-a53b-db9b535d73fd",
   "metadata": {},
   "outputs": [
    {
     "name": "stdout",
     "output_type": "stream",
     "text": [
      "DONE\n",
      "-----------------------\n",
      "\n",
      "*REPORT*\n",
      "\n",
      "Quantum Cost is :  2737.781786348205\n",
      "Classical Cost is :  2737.781786348361\n"
     ]
    }
   ],
   "source": [
    "ss = process_time()\n",
    "theta= np.asarray([*((np.pi/2)*np.ones(num_qubits)),*(np.zeros(2*(num_qubits-1)*layers))])\n",
    "optimizer = GradientDescent(maxiter=80,learning_rate=1.0, callback=callback)\n",
    "\n",
    "obj = qiskit_expectation(H,num_qubits,layers,shots) # <H>\n",
    "\n",
    "grad_fun = gradient(F, num_qubits,layers, shots,c)\n",
    "\n",
    "result = optimizer.optimize(num_vars=num_qubits+2*(num_qubits-1)*layers, objective_function=obj,gradient_function=grad_fun, initial_point=theta)\n",
    "\n",
    "print(\"DONE\")\n",
    "print(\"-----------------------\")\n",
    "print(\"\\n*REPORT*\\n\")\n",
    "qc = Ansatz(result[0], num_qubits, layers)\n",
    "qc.measure_all()\n",
    "backend = Aer.get_backend('qasm_simulator')\n",
    "job = execute(qc, backend, shots=shots)\n",
    "res = job.result()\n",
    "counts = res.get_counts()\n",
    "revsol = counts.most_frequent()[::-1]\n",
    "sol = np.array(list(revsol), dtype=int)\n",
    "_,_,_,level = quantum_optimizer.binary_representation(x_sol=sol)\n",
    "print(\"Quantum Cost is : \",level)\n",
    "print(\"Classical Cost is : \",classical_cost)"
   ]
  },
  {
   "cell_type": "code",
   "execution_count": null,
   "id": "f83d2d03-517d-459e-a01d-a7279e39abf1",
   "metadata": {},
   "outputs": [],
   "source": []
  }
 ],
 "metadata": {
  "kernelspec": {
   "display_name": "Qiskit v0.32.0 (ipykernel)",
   "language": "python",
   "name": "python3"
  },
  "language_info": {
   "codemirror_mode": {
    "name": "ipython",
    "version": 3
   },
   "file_extension": ".py",
   "mimetype": "text/x-python",
   "name": "python",
   "nbconvert_exporter": "python",
   "pygments_lexer": "ipython3",
   "version": "3.8.10"
  },
  "widgets": {
   "application/vnd.jupyter.widget-state+json": {
    "state": {
     "1aa0075b2604445ca64369aedc9faec1": {
      "model_module": "@jupyter-widgets/controls",
      "model_module_version": "1.5.0",
      "model_name": "DescriptionStyleModel",
      "state": {
       "description_width": ""
      }
     },
     "235d720004ab49a7934996053b8eee09": {
      "model_module": "@jupyter-widgets/controls",
      "model_module_version": "1.5.0",
      "model_name": "DescriptionStyleModel",
      "state": {
       "description_width": ""
      }
     },
     "2cec626655ae4c78b22fd5836094e354": {
      "model_module": "@jupyter-widgets/controls",
      "model_module_version": "1.5.0",
      "model_name": "ButtonModel",
      "state": {
       "button_style": "primary",
       "description": "Clear",
       "layout": "IPY_MODEL_476d00a1cbaf4bff88b40c1a1b869f3f",
       "style": "IPY_MODEL_a634e664925748cbb0952d74f90a0cc7"
      }
     },
     "2ef7015ea8794263a5e9b97a8c25067a": {
      "model_module": "@jupyter-widgets/base",
      "model_module_version": "1.2.0",
      "model_name": "LayoutModel",
      "state": {
       "margin": "0px 0px 0px 37px",
       "width": "600px"
      }
     },
     "369d8e96508b4f85a22779e0fd8f35d4": {
      "model_module": "@jupyter-widgets/controls",
      "model_module_version": "1.5.0",
      "model_name": "HBoxModel",
      "state": {
       "children": [
        "IPY_MODEL_8803596dc5604af1a676f55476fe5c76",
        "IPY_MODEL_a1ee13caf8334cfbab1389d28edcea9c",
        "IPY_MODEL_c1ca972c64814116b3daead7efbf9893",
        "IPY_MODEL_72ecfd03c0f1400a98ae7b4d8fbca129",
        "IPY_MODEL_8c28a40da6de4e4ca421efff42429989"
       ],
       "layout": "IPY_MODEL_2ef7015ea8794263a5e9b97a8c25067a"
      }
     },
     "476d00a1cbaf4bff88b40c1a1b869f3f": {
      "model_module": "@jupyter-widgets/base",
      "model_module_version": "1.2.0",
      "model_name": "LayoutModel",
      "state": {
       "grid_area": "right",
       "padding": "0px 0px 0px 0px",
       "width": "70px"
      }
     },
     "65aa505af7dc42d7965f9715d8a8deb8": {
      "model_module": "@jupyter-widgets/base",
      "model_module_version": "1.2.0",
      "model_name": "LayoutModel",
      "state": {
       "margin": "0px 0px 10px 0px"
      }
     },
     "72ecfd03c0f1400a98ae7b4d8fbca129": {
      "model_module": "@jupyter-widgets/controls",
      "model_module_version": "1.5.0",
      "model_name": "HTMLModel",
      "state": {
       "layout": "IPY_MODEL_f94614cde4a046aa89a2b2ba6ed8a54c",
       "style": "IPY_MODEL_235d720004ab49a7934996053b8eee09",
       "value": "<h5>Queue</h5>"
      }
     },
     "7515834b19fe4e0ea1dd86f915746a4b": {
      "model_module": "@jupyter-widgets/controls",
      "model_module_version": "1.5.0",
      "model_name": "DescriptionStyleModel",
      "state": {
       "description_width": ""
      }
     },
     "859da89d92ea45fe9b12859ef00d31e7": {
      "model_module": "@jupyter-widgets/controls",
      "model_module_version": "1.5.0",
      "model_name": "DescriptionStyleModel",
      "state": {
       "description_width": ""
      }
     },
     "8803596dc5604af1a676f55476fe5c76": {
      "model_module": "@jupyter-widgets/controls",
      "model_module_version": "1.5.0",
      "model_name": "HTMLModel",
      "state": {
       "layout": "IPY_MODEL_f37c222efaee459c9cb7bbbbe4504234",
       "style": "IPY_MODEL_1aa0075b2604445ca64369aedc9faec1",
       "value": "<h5>Job ID</h5>"
      }
     },
     "8c28a40da6de4e4ca421efff42429989": {
      "model_module": "@jupyter-widgets/controls",
      "model_module_version": "1.5.0",
      "model_name": "HTMLModel",
      "state": {
       "layout": "IPY_MODEL_e932f0256a4346eb8704abea480b000f",
       "style": "IPY_MODEL_7515834b19fe4e0ea1dd86f915746a4b",
       "value": "<h5>Message</h5>"
      }
     },
     "8c574a64831a4721a450f53ca8c2cd70": {
      "model_module": "@jupyter-widgets/base",
      "model_module_version": "1.2.0",
      "model_name": "LayoutModel",
      "state": {
       "grid_template_areas": "\n                                       \". . . . right \"\n                                        ",
       "grid_template_columns": "20% 20% 20% 20% 20%",
       "width": "100%"
      }
     },
     "9e3d52bae50244e79a4e56cfa0bca142": {
      "model_module": "@jupyter-widgets/controls",
      "model_module_version": "1.5.0",
      "model_name": "GridBoxModel",
      "state": {
       "children": [
        "IPY_MODEL_2cec626655ae4c78b22fd5836094e354"
       ],
       "layout": "IPY_MODEL_8c574a64831a4721a450f53ca8c2cd70"
      }
     },
     "a1ee13caf8334cfbab1389d28edcea9c": {
      "model_module": "@jupyter-widgets/controls",
      "model_module_version": "1.5.0",
      "model_name": "HTMLModel",
      "state": {
       "layout": "IPY_MODEL_a9f9bf91b0a042288825bdb77a324073",
       "style": "IPY_MODEL_c20cd5caf2b5459086ebfad0e49d6e98",
       "value": "<h5>Backend</h5>"
      }
     },
     "a2b3b93bdfcf4bdb9e8d9d81637235d4": {
      "model_module": "@jupyter-widgets/controls",
      "model_module_version": "1.5.0",
      "model_name": "DescriptionStyleModel",
      "state": {
       "description_width": ""
      }
     },
     "a634e664925748cbb0952d74f90a0cc7": {
      "model_module": "@jupyter-widgets/controls",
      "model_module_version": "1.5.0",
      "model_name": "ButtonStyleModel",
      "state": {}
     },
     "a9f9bf91b0a042288825bdb77a324073": {
      "model_module": "@jupyter-widgets/base",
      "model_module_version": "1.2.0",
      "model_name": "LayoutModel",
      "state": {
       "width": "145px"
      }
     },
     "b7dc16d9b44a46f2b10df46b86c2ba65": {
      "model_module": "@jupyter-widgets/controls",
      "model_module_version": "1.5.0",
      "model_name": "HTMLModel",
      "state": {
       "layout": "IPY_MODEL_65aa505af7dc42d7965f9715d8a8deb8",
       "style": "IPY_MODEL_a2b3b93bdfcf4bdb9e8d9d81637235d4",
       "value": "<p style='font-family: IBM Plex Sans, Arial, Helvetica, sans-serif; font-size: 20px; font-weight: medium;'>Circuit Properties</p>"
      }
     },
     "c1ca972c64814116b3daead7efbf9893": {
      "model_module": "@jupyter-widgets/controls",
      "model_module_version": "1.5.0",
      "model_name": "HTMLModel",
      "state": {
       "layout": "IPY_MODEL_e2eb1005660f4421806acbcc74efb35b",
       "style": "IPY_MODEL_859da89d92ea45fe9b12859ef00d31e7",
       "value": "<h5>Status</h5>"
      }
     },
     "c20cd5caf2b5459086ebfad0e49d6e98": {
      "model_module": "@jupyter-widgets/controls",
      "model_module_version": "1.5.0",
      "model_name": "DescriptionStyleModel",
      "state": {
       "description_width": ""
      }
     },
     "e2eb1005660f4421806acbcc74efb35b": {
      "model_module": "@jupyter-widgets/base",
      "model_module_version": "1.2.0",
      "model_name": "LayoutModel",
      "state": {
       "width": "95px"
      }
     },
     "e932f0256a4346eb8704abea480b000f": {
      "model_module": "@jupyter-widgets/base",
      "model_module_version": "1.2.0",
      "model_name": "LayoutModel",
      "state": {}
     },
     "f37c222efaee459c9cb7bbbbe4504234": {
      "model_module": "@jupyter-widgets/base",
      "model_module_version": "1.2.0",
      "model_name": "LayoutModel",
      "state": {
       "width": "190px"
      }
     },
     "f94614cde4a046aa89a2b2ba6ed8a54c": {
      "model_module": "@jupyter-widgets/base",
      "model_module_version": "1.2.0",
      "model_name": "LayoutModel",
      "state": {
       "width": "70px"
      }
     }
    },
    "version_major": 2,
    "version_minor": 0
   }
  }
 },
 "nbformat": 4,
 "nbformat_minor": 5
}
