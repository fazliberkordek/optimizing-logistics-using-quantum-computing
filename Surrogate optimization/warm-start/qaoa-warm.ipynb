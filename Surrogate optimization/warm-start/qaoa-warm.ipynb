{
 "cells": [
  {
   "cell_type": "code",
   "execution_count": 1,
   "id": "1ea05fb0",
   "metadata": {},
   "outputs": [],
   "source": [
    "import networkx as nx\n",
    "import matplotlib.pyplot as plt\n",
    "import numpy as np\n",
    "import copy\n",
    "\n",
    "from qiskit import QuantumCircuit, ClassicalRegister, QuantumRegister\n",
    "from qiskit import Aer, execute\n",
    "from qiskit.circuit import Parameter\n",
    "from qiskit.circuit import Gate\n",
    "from qiskit.quantum_info.operators import Operator\n",
    "from qiskit.visualization import plot_histogram\n",
    "\n",
    "from scipy.optimize import minimize"
   ]
  },
  {
   "cell_type": "code",
   "execution_count": 2,
   "id": "facfdaba",
   "metadata": {},
   "outputs": [],
   "source": [
    "file = 'test.txt'\n",
    "\n",
    "lines = []\n",
    "with open(file, 'r', errors='ignore') as f:\n",
    "    lines = f.readlines()\n",
    "    \n",
    "f.close()"
   ]
  },
  {
   "cell_type": "code",
   "execution_count": 3,
   "id": "8b118fa3",
   "metadata": {
    "scrolled": true
   },
   "outputs": [
    {
     "data": {
      "image/png": "[encoded data removed]",
      "text/plain": [
       "<Figure size 432x288 with 1 Axes>"
      ]
     },
     "metadata": {},
     "output_type": "display_data"
    }
   ],
   "source": [
    "G = nx.Graph()\n",
    "\n",
    "for line in lines:\n",
    "    if (line[0] != '#'):\n",
    "        data = line.split()\n",
    "        if (len(data) == 3):\n",
    "            G.add_edge(int(data[0]) - 1, int(data[1]) - 1, weight = int(data[2]))\n",
    "            \n",
    "adjacency_matrix = nx.to_numpy_matrix(G)\n",
    "nx.draw(G, with_labels=True, alpha=0.8, node_size=500)"
   ]
  },
  {
   "cell_type": "code",
   "execution_count": 4,
   "id": "8d65c37f",
   "metadata": {},
   "outputs": [],
   "source": [
    "def maxcut_objective(x, G):\n",
    "    objective = 0\n",
    "    for i, j in G.edges():\n",
    "        if (x[i] != x[j]):\n",
    "            objective += G[i][j][\"weight\"]\n",
    "            \n",
    "    return objective\n",
    "\n",
    "def bm_mc_objective(X, adjacency_matrix):\n",
    "    # X is a numpy matrix of shape k x (number of vertices) \n",
    "    objective = 1 / 4 * (np.sum(adjacency_matrix) - np.trace(X @ adjacency_matrix @ X.T))\n",
    "    \n",
    "    return objective"
   ]
  },
  {
   "cell_type": "code",
   "execution_count": 5,
   "id": "b2ab8ad5",
   "metadata": {},
   "outputs": [
    {
     "data": {
      "text/plain": [
       "['0011', '0101', '0111', '1000', '1010', '1100']"
      ]
     },
     "execution_count": 5,
     "metadata": {},
     "output_type": "execute_result"
    }
   ],
   "source": [
    "def binary_string(x, n):\n",
    "    binary = \"\"\n",
    "    for _ in range(n):\n",
    "        binary = str(x % 2) + binary\n",
    "        x = x // 2\n",
    "        \n",
    "    return binary\n",
    "\n",
    "def max_cut(G):\n",
    "    n = len(G.nodes())\n",
    "    \n",
    "    optimal_cut = 0\n",
    "    for x in range(2 ** n):\n",
    "        binary = binary_string(x, n)\n",
    "        optimal_cut = max(optimal_cut, maxcut_objective(binary, G))\n",
    "        \n",
    "    return optimal_cut\n",
    "\n",
    "def find_optimal_cuts(G):\n",
    "    n = len(G.nodes())\n",
    "    optimal_cut = max_cut(G)\n",
    "    \n",
    "    optimal_cuts = []\n",
    "    for x in range(2 ** n):\n",
    "        binary = binary_string(x, n)\n",
    "        if maxcut_objective(binary, G) == optimal_cut:\n",
    "            optimal_cuts.append(binary)\n",
    "            \n",
    "    return optimal_cuts\n",
    "\n",
    "# Optimal cuts for the graph instance\n",
    "optimal_cuts = find_optimal_cuts(G)\n",
    "optimal_cuts"
   ]
  },
  {
   "cell_type": "markdown",
   "id": "724665d8",
   "metadata": {},
   "source": [
    "# Vanilla QAOA"
   ]
  },
  {
   "cell_type": "code",
   "execution_count": 6,
   "id": "361d4f27",
   "metadata": {},
   "outputs": [],
   "source": [
    "def compute_expectation(counts, G):\n",
    "    \"\"\"\n",
    "    Computes expectation value based on measurement results\n",
    "    \n",
    "    Args:\n",
    "        counts: dict\n",
    "                key as bitstring, val as count\n",
    "           \n",
    "        G: networkx graph\n",
    "        \n",
    "    Returns:\n",
    "        avg: float\n",
    "             expectation value\n",
    "    \"\"\"\n",
    "    avg = 0\n",
    "    sum_count = 0\n",
    "    for bitstring, count in counts.items():   \n",
    "        obj = -maxcut_objective(bitstring, G)\n",
    "        avg += obj * count\n",
    "        sum_count += count\n",
    "        \n",
    "    return avg/sum_count\n",
    "\n",
    "\n",
    "# We will also bring the different circuit components that\n",
    "# build the qaoa circuit under a single function\n",
    "def create_qaoa_circuit(G, theta):\n",
    "    \"\"\"\n",
    "    Creates a parametrized qaoa circuit\n",
    "    \n",
    "    Args:  \n",
    "        G: networkx graph\n",
    "        theta: list\n",
    "               unitary parameters\n",
    "                     \n",
    "    Returns:\n",
    "        qc: qiskit circuit\n",
    "    \"\"\"\n",
    "    nqubits = len(G.nodes())\n",
    "    p = len(theta) // 2  # number of alternating unitaries\n",
    "    qc = QuantumCircuit(nqubits)\n",
    "    \n",
    "    beta = theta[:p]\n",
    "    gamma = theta[p:]\n",
    "    \n",
    "    # initial_state\n",
    "    for i in range(0, nqubits):\n",
    "        qc.h(i)\n",
    "    \n",
    "    for irep in range(0, p):\n",
    "        # problem unitary\n",
    "        for i, j in G.edges():\n",
    "            qc.rzz(2 * gamma[irep] * G[i][j][\"weight\"], i, j)\n",
    "\n",
    "        # mixer unitary\n",
    "        for i in range(0, nqubits):\n",
    "            qc.rx(2 * beta[irep], i)\n",
    "            \n",
    "    qc.measure_all()\n",
    "        \n",
    "    return qc\n",
    "\n",
    "# Finally we write a function that executes the circuit on the chosen backend\n",
    "def get_expectation(G, p, shots=512):\n",
    "    \"\"\"\n",
    "    Runs parametrized circuit\n",
    "    \n",
    "    Args:\n",
    "        G: networkx graph\n",
    "        p: int,\n",
    "           Number of repetitions of unitaries\n",
    "    \"\"\"\n",
    "    backend = Aer.get_backend('qasm_simulator')\n",
    "    backend.shots = shots\n",
    "    \n",
    "    def execute_circuit(theta):\n",
    "        qc = create_qaoa_circuit(G, theta)\n",
    "        counts = backend.run(qc, seed_simulator=10, nshots=512).result().get_counts()\n",
    "        return compute_expectation(counts, G)\n",
    "    \n",
    "    return execute_circuit"
   ]
  },
  {
   "cell_type": "code",
   "execution_count": 7,
   "id": "777696d7",
   "metadata": {},
   "outputs": [
    {
     "data": {
      "text/plain": [
       "     fun: -3.951171875\n",
       "   maxcv: 0.0\n",
       " message: 'Optimization terminated successfully.'\n",
       "    nfev: 31\n",
       "  status: 1\n",
       " success: True\n",
       "       x: array([-0.2333724 ,  0.88778785])"
      ]
     },
     "execution_count": 7,
     "metadata": {},
     "output_type": "execute_result"
    }
   ],
   "source": [
    "expectation = get_expectation(G, p=2)\n",
    "res = minimize(expectation, [1.0, 1.0], method='COBYLA')\n",
    "res"
   ]
  },
  {
   "cell_type": "code",
   "execution_count": 8,
   "id": "6caf4655",
   "metadata": {
    "scrolled": true
   },
   "outputs": [
    {
     "data": {
      "image/png": "[encoded data removed]",
      "text/plain": [
       "<Figure size 504x360 with 1 Axes>"
      ]
     },
     "execution_count": 8,
     "metadata": {},
     "output_type": "execute_result"
    }
   ],
   "source": [
    "backend = Aer.get_backend('aer_simulator')\n",
    "backend.shots = 512\n",
    "\n",
    "qc_res = create_qaoa_circuit(G, res.x)\n",
    "counts = backend.run(qc_res, seed_simulator=10).result().get_counts()\n",
    "plot_histogram(counts)"
   ]
  },
  {
   "cell_type": "markdown",
   "id": "e75d7c3d",
   "metadata": {},
   "source": [
    "# QAOA-Warm"
   ]
  },
  {
   "cell_type": "code",
   "execution_count": 9,
   "id": "5048387c",
   "metadata": {},
   "outputs": [],
   "source": [
    "def bm_mc_2(adjacency_matrix, iterations = 100, eta = 0.05):\n",
    "    vertices = np.shape(adjacency_matrix)[0]\n",
    "    thetas = np.random.uniform(low = 0, high = 2 * np.pi, size = vertices)\n",
    "    # thetas = np.random.uniform(low = 0, high = np.pi, size = vertices)\n",
    "    # print(thetas)\n",
    "    \n",
    "    stopping_threshold = np.sum(np.abs(adjacency_matrix))\n",
    "    for _ in range(iterations):\n",
    "        for vertex in range(vertices):\n",
    "            X = np.array([np.cos(thetas), np.sin(thetas)])\n",
    "            objective = bm_mc_objective(X, adjacency_matrix)\n",
    "\n",
    "            perturbation = np.random.uniform(-eta, eta)\n",
    "            new_thetas = copy.deepcopy(thetas)\n",
    "            new_thetas[vertex] += perturbation\n",
    "            new_X = np.array([np.cos(new_thetas), np.sin(new_thetas)])\n",
    "            new_objective = bm_mc_objective(new_X, adjacency_matrix)\n",
    "            if new_objective > objective:\n",
    "                thetas = new_thetas\n",
    "                \n",
    "            # print(thetas)\n",
    "\n",
    "    return thetas\n",
    "\n",
    "def bm_mc_3(adjacency_matrix, iterations = 100, eta = 0.05):\n",
    "    vertices = np.shape(adjacency_matrix)[0]\n",
    "    thetas = np.random.uniform(low = 0, high = np.pi, size = vertices)\n",
    "    phis = np.random.uniform(low = 0, high = 2 * np.pi, size = vertices)\n",
    "    \n",
    "    stopping_threshold = np.sum(np.abs(adjacency_matrix))\n",
    "    for _ in range(iterations):\n",
    "        for vertex in range(vertices):\n",
    "            X = np.array([np.sin(thetas) * np.cos(phis), \n",
    "                          np.sin(thetas) * np.sin(phis), \n",
    "                          np.cos(thetas)])\n",
    "            objective = bm_mc_objective(X, adjacency_matrix)\n",
    "\n",
    "            theta_perturbation = np.random.uniform(-eta, eta)\n",
    "            new_thetas = copy.deepcopy(thetas)\n",
    "            new_thetas[vertex] += theta_perturbation\n",
    "            \n",
    "            phi_perturbation = np.random.uniform(-eta, eta)\n",
    "            new_phis = copy.deepcopy(phis)\n",
    "            new_phis += phi_perturbation\n",
    "            \n",
    "            new_X = np.array([np.sin(new_thetas) * np.cos(new_phis), \n",
    "                              np.sin(new_thetas) * np.sin(new_phis), \n",
    "                              np.cos(new_thetas)])\n",
    "            new_objective = bm_mc_objective(new_X, adjacency_matrix)\n",
    "            if new_objective > objective:\n",
    "                thetas = new_thetas\n",
    "\n",
    "    return thetas, phis\n",
    "\n",
    "def hyperplane_rounding_2(thetas):\n",
    "    # Choose a random normal\n",
    "    random_normal_theta = np.random.uniform(low = 0, high = 2 * np.pi)\n",
    "    random_normal = [[np.cos(random_normal_theta)], [np.sin(random_normal_theta)]]\n",
    "    \n",
    "    # Compute Cartesian coordinates\n",
    "    X = np.array([np.cos(thetas), np.sin(thetas)])\n",
    "    \n",
    "    return (np.sum(X * random_normal, axis = 0) > 0) * 1\n",
    "\n",
    "def hyperplane_rounding_3(thetas, phis):\n",
    "    # Choose a random normal\n",
    "    random_normal_theta = np.random.uniform(low = 0, high = np.pi)\n",
    "    random_normal_phi = np.random.uniform(low = 0, high = 2 * np.pi)\n",
    "    random_normal = np.array([[np.sin(random_normal_theta) * np.cos(random_normal_phi)], \n",
    "                              [np.sin(random_normal_theta) * np.sin(random_normal_phi)], \n",
    "                              [np.cos(random_normal_theta)]])\n",
    "    \n",
    "    # Compute Cartesian coordinates\n",
    "    X = np.array([np.sin(thetas) * np.cos(phis), \n",
    "                  np.sin(thetas) * np.sin(phis), \n",
    "                  np.cos(thetas)])\n",
    "    \n",
    "    return (np.sum(X * random_normal, axis = 0) > 0) * 1\n",
    "\n",
    "def solve_sdp_2(adjacency_matrix, iterations = 100, eta = 0.05):\n",
    "    theta = bm_mc_2(adjacency_matrix, iterations, eta)\n",
    "    return ''.join(map(str, hyperplane_rounding_2(theta)))\n",
    "\n",
    "def solve_sdp_3(adjacency_matrix, iterations = 100, eta = 0.05):\n",
    "    theta, phi = bm_mc_3(adjacency_matrix, iterations, eta)\n",
    "    return ''.join(map(str, hyperplane_rounding_3(theta, phi)))"
   ]
  },
  {
   "cell_type": "code",
   "execution_count": 10,
   "id": "6290b7fc",
   "metadata": {},
   "outputs": [],
   "source": [
    "def success_rate_bm_mc_2(cases, optimal_cuts):\n",
    "    successes = 0\n",
    "    for _ in range(cases):\n",
    "        if solve_sdp_2(adjacency_matrix) in optimal_cuts:\n",
    "            successes += 1\n",
    "\n",
    "    print(\"k = 2 Success Rate:\", successes/cases)\n",
    "\n",
    "def success_rate_bm_mc_3(cases, optimal_cuts):\n",
    "    successes = 0\n",
    "    for _ in range(cases):\n",
    "        if solve_sdp_3(adjacency_matrix) in optimal_cuts:\n",
    "            successes += 1\n",
    "\n",
    "    print(\"k = 3 Success Rate:\", successes/cases)"
   ]
  },
  {
   "cell_type": "code",
   "execution_count": 11,
   "id": "0c5fe6d9",
   "metadata": {},
   "outputs": [],
   "source": [
    "# Effect of theta initialisation range\n",
    "# [0, pi]: Burer Monteiro MC Objective = 5.356300573724205\n",
    "# [0, 2*pi]: BM_MC Objective = 5.499981867418311"
   ]
  },
  {
   "cell_type": "code",
   "execution_count": 12,
   "id": "ffcff5c8",
   "metadata": {
    "scrolled": false
   },
   "outputs": [
    {
     "name": "stdout",
     "output_type": "stream",
     "text": [
      "k = 2 Success Rate: 1.0\n",
      "k = 3 Success Rate: 0.9\n"
     ]
    }
   ],
   "source": [
    "cases = 20\n",
    "\n",
    "success_rate_bm_mc_2(cases, optimal_cuts)\n",
    "success_rate_bm_mc_3(cases, optimal_cuts)"
   ]
  },
  {
   "cell_type": "code",
   "execution_count": 13,
   "id": "879605cf",
   "metadata": {},
   "outputs": [],
   "source": [
    "def vertex_at_top_rotation_dim_2(thetas):\n",
    "    vertices = np.shape(thetas)\n",
    "    j = np.random.randint(low = 0, high = vertices)\n",
    "    theta_j = thetas[j]\n",
    "    return (thetas - theta_j)\n",
    "\n",
    "def uniform_random_rotation_dim_2(thetas):\n",
    "    random_theta = np.random.uniform(low = 0, high = 2 * np.pi)\n",
    "    return (thetas + random_theta)\n",
    "\n",
    "def vertex_at_top_rotation_dim_3(thetas, phis):\n",
    "    vertices = np.shape(thetas)\n",
    "    j = np.random.randint(low = 0, high = vertices)\n",
    "    theta_j = thetas[j]\n",
    "    phi_j = phis[j]\n",
    "    return (thetas - theta_j), (phis - phi_j)\n",
    "\n",
    "def uniform_random_rotation_dim_3(thetas, phis):\n",
    "    random_theta = np.random.uniform(low = 0, high = np.pi)\n",
    "    random_phi = np.random.uniform(low = 0, high = 2 * np.pi)\n",
    "    return (thetas - random_theta), (phis - random_phi)"
   ]
  },
  {
   "cell_type": "code",
   "execution_count": 14,
   "id": "16667bc7",
   "metadata": {},
   "outputs": [],
   "source": [
    "def create_warm_start_bm_mc_2(adjacency_matrix, uniform_rotation=False):\n",
    "    # Initial state inspired by the Burer-Monteiro method\n",
    "    warm_start_thetas = bm_mc_2(adjacency_matrix)\n",
    "    \n",
    "    # Checking if the solution returned corresponds to an optimal cut\n",
    "    print(\"Cut returned by BM_MC_2:\", hyperplane_rounding_2(warm_start_thetas))\n",
    "    \n",
    "    # Normalising angles and applying a random rotation \n",
    "    warm_start_thetas = np.mod(warm_start_thetas + 2 * np.pi, 2 * np.pi)\n",
    "    \n",
    "    if uniform_rotation:\n",
    "        warm_start_thetas = uniform_random_rotation_dim_2(warm_start_thetas)\n",
    "    else:\n",
    "        warm_start_thetas = vertex_at_top_rotation_dim_2(warm_start_thetas)\n",
    "        \n",
    "    return warm_start_thetas\n",
    "\n",
    "def create_qaoa_warm_circuit_bm_ck_2(G, theta, warm_start_thetas):\n",
    "    \"\"\"\n",
    "    Creates a parametrized qaoa circuit\n",
    "    \n",
    "    Args:  \n",
    "        G: networkx graph\n",
    "        theta: list\n",
    "               unitary parameters\n",
    "                     \n",
    "    Returns:\n",
    "        qc: qiskit circuit\n",
    "    \"\"\"\n",
    "    nqubits = len(G.nodes())\n",
    "    adjacency_matrix = nx.to_numpy_matrix(G)\n",
    "    \n",
    "    p = len(theta) // 2  # number of alternating unitaries\n",
    "    beta = theta[:p]\n",
    "    gamma = theta[p:]\n",
    "    \n",
    "    qc = QuantumCircuit(nqubits)\n",
    "    for i in range(0, nqubits):\n",
    "        qc.rx(2 * np.pi - warm_start_thetas[i], i)\n",
    "    \n",
    "    for irep in range(0, p):\n",
    "        # problem unitary\n",
    "        for i, j in G.edges():\n",
    "            qc.rzz(2 * gamma[irep] * G[i][j][\"weight\"], i, j)\n",
    "\n",
    "        # mixer unitary\n",
    "        for i in range(0, nqubits):\n",
    "            qc.rx(2 * beta[irep], i)\n",
    "            \n",
    "    qc.measure_all()\n",
    "    return qc\n",
    "\n",
    "# Finally we write a function that executes the circuit on the chosen backend\n",
    "def get_expectation(G, p, warm_start_thetas, shots=512):\n",
    "    \"\"\"\n",
    "    Runs parametrized circuit\n",
    "    \n",
    "    Args:\n",
    "        G: networkx graph\n",
    "        p: int,\n",
    "           Number of repetitions of unitaries\n",
    "    \"\"\"\n",
    "    backend = Aer.get_backend('qasm_simulator')\n",
    "    backend.shots = shots\n",
    "    \n",
    "    def execute_circuit(theta):\n",
    "        qc = create_qaoa_warm_circuit_bm_ck_2(G, theta, warm_start_thetas)\n",
    "        counts = backend.run(qc, seed_simulator=10, nshots=512).result().get_counts()\n",
    "        return compute_expectation(counts, G)\n",
    "    \n",
    "    return execute_circuit"
   ]
  },
  {
   "cell_type": "code",
   "execution_count": 15,
   "id": "5eef6cf3",
   "metadata": {
    "scrolled": true
   },
   "outputs": [
    {
     "name": "stdout",
     "output_type": "stream",
     "text": [
      "Cut returned by BM_MC_2: [1 0 0 0]\n"
     ]
    },
    {
     "data": {
      "text/plain": [
       "     fun: -4.287109375\n",
       "   maxcv: 0.0\n",
       " message: 'Optimization terminated successfully.'\n",
       "    nfev: 29\n",
       "  status: 1\n",
       " success: True\n",
       "       x: array([ 0.54849265, -0.0200682 ])"
      ]
     },
     "execution_count": 15,
     "metadata": {},
     "output_type": "execute_result"
    }
   ],
   "source": [
    "# Find the classically-inspired warm-start for k = 2\n",
    "warm_start_thetas = create_warm_start_bm_mc_2(adjacency_matrix)\n",
    "\n",
    "p = 2\n",
    "expectation = get_expectation(G, p=p, warm_start_thetas=warm_start_thetas)\n",
    "res = minimize(expectation, np.random.uniform(-0.0001, 0.0001, p), method='COBYLA')\n",
    "res"
   ]
  },
  {
   "cell_type": "code",
   "execution_count": 16,
   "id": "90b74abd",
   "metadata": {
    "scrolled": true
   },
   "outputs": [
    {
     "data": {
      "image/png": "[encoded data removed]",
      "text/plain": [
       "<Figure size 504x360 with 1 Axes>"
      ]
     },
     "execution_count": 16,
     "metadata": {},
     "output_type": "execute_result"
    }
   ],
   "source": [
    "backend = Aer.get_backend('aer_simulator')\n",
    "backend.shots = 512\n",
    "\n",
    "qc_res = create_qaoa_warm_circuit_bm_ck_2(G, res.x, warm_start_thetas)\n",
    "counts = backend.run(qc_res, seed_simulator=10).result().get_counts()\n",
    "plot_histogram(counts)"
   ]
  },
  {
   "cell_type": "code",
   "execution_count": 17,
   "id": "18157b46",
   "metadata": {},
   "outputs": [],
   "source": [
    "def create_warm_start_bm_mc_3(adjacency_matrix, uniform_rotation=False):\n",
    "    # Initial state inspired by the Burer-Monteiro method\n",
    "    warm_start_thetas, warm_start_phis = bm_mc_3(adjacency_matrix)\n",
    "    \n",
    "    # Checking if the solution returned corresponds to an optimal cut\n",
    "    print(\"Cut returned by BM_MC_3:\", hyperplane_rounding_3(warm_start_thetas, warm_start_phis))\n",
    "    \n",
    "    # Normalising angles and applying a random rotation \n",
    "    warm_start_thetas = np.mod(warm_start_thetas + 2 * np.pi, 2 * np.pi)\n",
    "    warm_start_phis = np.mod(warm_start_phis + 2 * np.pi, 2 * np.pi)\n",
    "    \n",
    "    if uniform_rotation:\n",
    "        warm_start_thetas, warm_start_phis = uniform_random_rotation_dim_3(warm_start_thetas, warm_start_phis)\n",
    "    else:\n",
    "        warm_start_thetas, warm_start_phis = vertex_at_top_rotation_dim_3(warm_start_thetas, warm_start_phis)\n",
    "        \n",
    "    return warm_start_thetas, warm_start_phis\n",
    "\n",
    "\n",
    "def create_qaoa_warm_circuit_bm_ck_3(G, theta, warm_start_thetas, warm_start_phis):\n",
    "    \"\"\"\n",
    "    Creates a parametrized qaoa circuit\n",
    "    \n",
    "    Args:  \n",
    "        G: networkx graph\n",
    "        theta: list\n",
    "               unitary parameters\n",
    "                     \n",
    "    Returns:\n",
    "        qc: qiskit circuit\n",
    "    \"\"\"\n",
    "    nqubits = len(G.nodes())\n",
    "    adjacency_matrix = nx.to_numpy_matrix(G)\n",
    "    \n",
    "    p = len(theta) // 2  # number of alternating unitaries\n",
    "    beta = theta[:p]\n",
    "    gamma = theta[p:]\n",
    "    \n",
    "    qc = QuantumCircuit(nqubits)\n",
    "    for i in range(0, nqubits):\n",
    "        qc.u(warm_start_thetas[i], warm_start_phis[i], 0, i)\n",
    "    \n",
    "    for irep in range(0, p):\n",
    "        # problem unitary\n",
    "        for i, j in G.edges():\n",
    "            qc.rzz(2 * gamma[irep] * G[i][j][\"weight\"], i, j)\n",
    "\n",
    "        # mixer unitary\n",
    "        for i in range(0, nqubits):\n",
    "            qc.rx(2 * beta[irep], i)\n",
    "            \n",
    "    qc.measure_all()\n",
    "    return qc\n",
    "\n",
    "# Finally we write a function that executes the circuit on the chosen backend\n",
    "def get_expectation(G, p, warm_start_thetas, warm_start_phis, shots=512):\n",
    "    \"\"\"\n",
    "    Runs parametrized circuit\n",
    "    \n",
    "    Args:\n",
    "        G: networkx graph\n",
    "        p: int,\n",
    "           Number of repetitions of unitaries\n",
    "    \"\"\"\n",
    "    backend = Aer.get_backend('qasm_simulator')\n",
    "    backend.shots = shots\n",
    "    \n",
    "    def execute_circuit(theta):\n",
    "        qc = create_qaoa_warm_circuit_bm_ck_3(G, theta, warm_start_thetas, warm_start_phis)\n",
    "        counts = backend.run(qc, seed_simulator=10, nshots=512).result().get_counts()\n",
    "        return compute_expectation(counts, G)\n",
    "    \n",
    "    return execute_circuit"
   ]
  },
  {
   "cell_type": "code",
   "execution_count": 18,
   "id": "4d358b7e",
   "metadata": {
    "scrolled": true
   },
   "outputs": [
    {
     "name": "stdout",
     "output_type": "stream",
     "text": [
      "Cut returned by BM_MC_3: [1 0 0 0]\n"
     ]
    },
    {
     "data": {
      "text/plain": [
       "     fun: -4.2646484375\n",
       "   maxcv: 0.0\n",
       " message: 'Optimization terminated successfully.'\n",
       "    nfev: 41\n",
       "  status: 1\n",
       " success: True\n",
       "       x: array([1.17960079, 0.78830581])"
      ]
     },
     "execution_count": 18,
     "metadata": {},
     "output_type": "execute_result"
    }
   ],
   "source": [
    "# Find the classically-inspired warm-start for k = 3\n",
    "warm_start_thetas, warm_start_phis = create_warm_start_bm_mc_3(adjacency_matrix)\n",
    "\n",
    "p = 2\n",
    "expectation = get_expectation(G, p=p, warm_start_thetas=warm_start_thetas, warm_start_phis=warm_start_phis)\n",
    "res = minimize(expectation, np.random.uniform(-0.0001, 0.0001, p), method='COBYLA')\n",
    "res"
   ]
  },
  {
   "cell_type": "code",
   "execution_count": 19,
   "id": "7c6f3d1f",
   "metadata": {
    "scrolled": true
   },
   "outputs": [
    {
     "data": {
      "image/png": "[encoded data removed]",
      "text/plain": [
       "<Figure size 504x360 with 1 Axes>"
      ]
     },
     "execution_count": 19,
     "metadata": {},
     "output_type": "execute_result"
    }
   ],
   "source": [
    "backend = Aer.get_backend('aer_simulator')\n",
    "backend.shots = 512\n",
    "\n",
    "qc_res = create_qaoa_warm_circuit_bm_ck_3(G, res.x, warm_start_thetas, warm_start_phis)\n",
    "counts = backend.run(qc_res, seed_simulator=10).result().get_counts()\n",
    "plot_histogram(counts)"
   ]
  },
  {
   "cell_type": "markdown",
   "id": "4c6dcc99",
   "metadata": {},
   "source": [
    "# Modifying Mixer Hamiltonian"
   ]
  },
  {
   "cell_type": "code",
   "execution_count": 20,
   "id": "3bd9c2f6",
   "metadata": {},
   "outputs": [],
   "source": [
    "def create_qaoa_warmest_circuit_bm_ck_3(G, theta, warm_start_thetas, warm_start_phis):\n",
    "    \"\"\"\n",
    "    Creates a parametrized qaoa circuit\n",
    "    \n",
    "    Args:  \n",
    "        G: networkx graph\n",
    "        theta: list\n",
    "               unitary parameters\n",
    "                     \n",
    "    Returns:\n",
    "        qc: qiskit circuit\n",
    "    \"\"\"\n",
    "    nqubits = len(G.nodes())\n",
    "    adjacency_matrix = nx.to_numpy_matrix(G)\n",
    "    \n",
    "    p = len(theta) // 2  # number of alternating unitaries\n",
    "    beta = theta[:p]\n",
    "    gamma = theta[p:]\n",
    "    \n",
    "    V = np.array([np.sin(warm_start_thetas) * np.cos(warm_start_phis), \n",
    "                  np.sin(warm_start_thetas) * np.sin(warm_start_phis), \n",
    "                  np.cos(warm_start_thetas)])\n",
    "    \n",
    "    # Defining the standard matrices\n",
    "    I = np.eye(2)\n",
    "    X = np.array([[0, 1],\n",
    "                 [1, 0]])\n",
    "    Y = np.array([[0, -1j], \n",
    "                  [1j, 0]])\n",
    "    Z = np.array([[1, 0],\n",
    "                  [0, -1]])\n",
    "    \n",
    "    qc = QuantumCircuit(nqubits)\n",
    "    for i in range(0, nqubits):\n",
    "        qc.u(warm_start_thetas[i], warm_start_phis[i], 0, i)\n",
    "    \n",
    "    for irep in range(0, p):\n",
    "        # problem unitary\n",
    "        for i, j in G.edges():\n",
    "            qc.rzz(2 * gamma[irep] * G[i][j][\"weight\"], i, j)\n",
    "\n",
    "        # mixer unitary\n",
    "        for i in range(0, nqubits):\n",
    "            (v_x, v_y, v_z) = V[:,i]\n",
    "            custom_mixer_matrix = np.cos(beta[irep]) * I - 1j * np.sin(beta[irep]) * (v_x * X + v_y * Y + v_z * Z)\n",
    "            custom_mixer = Operator(custom_mixer_matrix)\n",
    "            qc.append(Operator(custom_mixer), [i])\n",
    "            \n",
    "    qc.measure_all()\n",
    "    return qc\n",
    "\n",
    "# Finally we write a function that executes the circuit on the chosen backend\n",
    "def get_expectation(G, p, warm_start_thetas, warm_start_phis, shots=512):\n",
    "    \"\"\"\n",
    "    Runs parametrized circuit\n",
    "    \n",
    "    Args:\n",
    "        G: networkx graph\n",
    "        p: int,\n",
    "           Number of repetitions of unitaries\n",
    "    \"\"\"\n",
    "    backend = Aer.get_backend('qasm_simulator')\n",
    "    backend.shots = shots\n",
    "    \n",
    "    def execute_circuit(theta):\n",
    "        qc = create_qaoa_warmest_circuit_bm_ck_3(G, theta, warm_start_thetas, warm_start_phis)\n",
    "        counts = backend.run(qc, seed_simulator=10, nshots=512).result().get_counts()\n",
    "        return compute_expectation(counts, G)\n",
    "    \n",
    "    return execute_circuit"
   ]
  },
  {
   "cell_type": "code",
   "execution_count": 21,
   "id": "c0146919",
   "metadata": {},
   "outputs": [
    {
     "name": "stdout",
     "output_type": "stream",
     "text": [
      "Cut returned by BM_MC_3: [1 1 0 1]\n"
     ]
    },
    {
     "data": {
      "text/plain": [
       "     fun: -2.4609375\n",
       "   maxcv: 0.0\n",
       " message: 'Optimization terminated successfully.'\n",
       "    nfev: 13\n",
       "  status: 1\n",
       " success: True\n",
       "       x: array([ 5.26092852e-05, -6.29677039e-05])"
      ]
     },
     "execution_count": 21,
     "metadata": {},
     "output_type": "execute_result"
    }
   ],
   "source": [
    "# Find the classically-inspired warm-start for k = 3\n",
    "warm_start_thetas, warm_start_phis = create_warm_start_bm_mc_3(adjacency_matrix)\n",
    "\n",
    "p = 2\n",
    "expectation = get_expectation(G, p=p, warm_start_thetas=warm_start_thetas, warm_start_phis=warm_start_phis)\n",
    "res = minimize(expectation, np.random.uniform(-0.0001, 0.0001, p), method='COBYLA')\n",
    "res"
   ]
  },
  {
   "cell_type": "code",
   "execution_count": 22,
   "id": "78f3f217",
   "metadata": {
    "scrolled": true
   },
   "outputs": [
    {
     "data": {
      "image/png": "[encoded data removed]",
      "text/plain": [
       "<Figure size 504x360 with 1 Axes>"
      ]
     },
     "execution_count": 22,
     "metadata": {},
     "output_type": "execute_result"
    }
   ],
   "source": [
    "backend = Aer.get_backend('aer_simulator')\n",
    "backend.shots = 512\n",
    "\n",
    "qc_res = create_qaoa_warmest_circuit_bm_ck_3(G, res.x, warm_start_thetas, warm_start_phis)\n",
    "counts = backend.run(qc_res, seed_simulator=10).result().get_counts()\n",
    "plot_histogram(counts)"
   ]
  }
 ],
 "metadata": {
  "kernelspec": {
   "display_name": "Python 3 (ipykernel)",
   "language": "python",
   "name": "python3"
  },
  "language_info": {
   "codemirror_mode": {
    "name": "ipython",
    "version": 3
   },
   "file_extension": ".py",
   "mimetype": "text/x-python",
   "name": "python",
   "nbconvert_exporter": "python",
   "pygments_lexer": "ipython3",
   "version": "3.10.4"
  }
 },
 "nbformat": 4,
 "nbformat_minor": 5
}
