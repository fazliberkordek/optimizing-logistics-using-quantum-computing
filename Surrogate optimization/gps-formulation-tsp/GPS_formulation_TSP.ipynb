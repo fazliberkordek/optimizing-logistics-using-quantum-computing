{
 "cells": [
  {
   "cell_type": "code",
   "execution_count": 1,
   "metadata": {},
   "outputs": [],
   "source": [
    "import numpy as np\n",
    "import networkx as nx\n",
    "import matplotlib.pyplot as plt\n",
    "from pyqubo import Binary, Array, Constraint, Placeholder\n",
    "import neal\n",
    "\n",
    "from itertools import product, permutations, combinations\n",
    "\n",
    "np.random.seed(20)"
   ]
  },
  {
   "cell_type": "code",
   "execution_count": 2,
   "metadata": {},
   "outputs": [],
   "source": [
    "# TSP problem\n",
    "D = np.array([[1000, 12, 29, 22, 13, 24],\n",
    "              [12, 1000, 19, 3, 25, 6],\n",
    "              [29, 19, 1000, 21, 23, 28],\n",
    "              [22, 3, 21, 1000, 4, 5],\n",
    "              [13, 25, 23, 4, 1000, 16],\n",
    "              [24, 6, 28, 5, 16, 1000]])"
   ]
  },
  {
   "cell_type": "code",
   "execution_count": 3,
   "metadata": {},
   "outputs": [
    {
     "data": {
      "text/plain": [
       "array([[ True,  True,  True,  True,  True,  True],\n",
       "       [ True,  True,  True,  True,  True,  True],\n",
       "       [ True,  True,  True,  True,  True,  True],\n",
       "       [ True,  True,  True,  True,  True,  True],\n",
       "       [ True,  True,  True,  True,  True,  True],\n",
       "       [ True,  True,  True,  True,  True,  True]])"
      ]
     },
     "execution_count": 3,
     "metadata": {},
     "output_type": "execute_result"
    }
   ],
   "source": [
    "D.T == D"
   ]
  },
  {
   "cell_type": "code",
   "execution_count": 4,
   "metadata": {},
   "outputs": [
    {
     "data": {
      "image/png": "[encoded data removed]",
      "text/plain": [
       "<Figure size 432x288 with 1 Axes>"
      ]
     },
     "metadata": {},
     "output_type": "display_data"
    }
   ],
   "source": [
    "nodes = [i for i in range(len(D))]\n",
    "\n",
    "G = nx.Graph()\n",
    "\n",
    "weighted_edges = []\n",
    "\n",
    "for i in range(len(D)):\n",
    "    for j in range(i+1, len(D)):\n",
    "        if i!=j:\n",
    "            weighted_edges.append((nodes[i], nodes[j], D[i][j]))\n",
    "\n",
    "G.add_weighted_edges_from(weighted_edges)\n",
    "\n",
    "pos = nx.circular_layout(G)\n",
    "nx.draw(G, pos, with_labels= True, font_weight = 'bold')\n",
    "edge_weight = nx.get_edge_attributes(G,'weight')\n",
    "nx.draw_networkx_edge_labels(G, pos, edge_labels = edge_weight)\n",
    "plt.show()"
   ]
  },
  {
   "cell_type": "code",
   "execution_count": 5,
   "metadata": {},
   "outputs": [],
   "source": [
    "def solve_exact(graph):\n",
    "    shortest_path = list(range(len(graph))) + [0]\n",
    "    min_cost = 10**5\n",
    "\n",
    "    possible_paths = permutations(range(len(graph)))\n",
    "    \n",
    "    for path in possible_paths:\n",
    "        cost = 0\n",
    "        for i in range(len(path) - 1):\n",
    "            cost = cost + graph[path[i]][path[i+1]]\n",
    "        cost = cost + graph[path[-1]][path[0]]\n",
    "\n",
    "        if cost < min_cost:\n",
    "            shortest_path = list(path)\n",
    "            shortest_path.append(path[0]) \n",
    "            min_cost = cost\n",
    "\n",
    "    shortest_path = [(shortest_path[i], shortest_path[i+1]) for i in range(len(shortest_path) - 1)]\n",
    "    return min_cost, shortest_path"
   ]
  },
  {
   "cell_type": "code",
   "execution_count": 6,
   "metadata": {},
   "outputs": [
    {
     "data": {
      "text/plain": [
       "(76, [(0, 2), (2, 1), (1, 5), (5, 3), (3, 4), (4, 0)])"
      ]
     },
     "execution_count": 6,
     "metadata": {},
     "output_type": "execute_result"
    }
   ],
   "source": [
    "optimal_cost, optimal_path = solve_exact(D)\n",
    "optimal_cost, optimal_path"
   ]
  },
  {
   "cell_type": "markdown",
   "metadata": {},
   "source": [
    "## Defining Binary variables"
   ]
  },
  {
   "cell_type": "code",
   "execution_count": 7,
   "metadata": {},
   "outputs": [],
   "source": [
    "N = len(D)\n",
    "\n",
    "X = Array.create('Q', (N, N, 3), 'BINARY')"
   ]
  },
  {
   "cell_type": "markdown",
   "metadata": {},
   "source": [
    "## Writing the objective"
   ]
  },
  {
   "cell_type": "markdown",
   "metadata": {},
   "source": [
    "\\begin{equation}\n",
    "    H_{o} = \\sum_{i=0}^{N} \\sum_{j=0}^{N} d_{i,j}x_{i,j,1} \\;\\;\\; i \\neq j\n",
    "\\end{equation}\n"
   ]
  },
  {
   "cell_type": "code",
   "execution_count": 8,
   "metadata": {},
   "outputs": [],
   "source": [
    "objective = 0.0\n",
    "path_variables = X[:,:,1]\n",
    "for i in range(len(path_variables)):\n",
    "    for j in range(len(path_variables[0])):\n",
    "            objective += D[i][j]*path_variables[i][j]"
   ]
  },
  {
   "cell_type": "code",
   "execution_count": 9,
   "metadata": {},
   "outputs": [
    {
     "data": {
      "text/plain": [
       "((1000.000000 * Binary('Q[0][0][1]')) + (12.000000 * Binary('Q[0][1][1]')) + (29.000000 * Binary('Q[0][2][1]')) + (22.000000 * Binary('Q[0][3][1]')) + (13.000000 * Binary('Q[0][4][1]')) + (24.000000 * Binary('Q[0][5][1]')) + (12.000000 * Binary('Q[1][0][1]')) + (1000.000000 * Binary('Q[1][1][1]')) + (19.000000 * Binary('Q[1][2][1]')) + (3.000000 * Binary('Q[1][3][1]')) + (25.000000 * Binary('Q[1][4][1]')) + (6.000000 * Binary('Q[1][5][1]')) + (29.000000 * Binary('Q[2][0][1]')) + (19.000000 * Binary('Q[2][1][1]')) + (1000.000000 * Binary('Q[2][2][1]')) + (21.000000 * Binary('Q[2][3][1]')) + (23.000000 * Binary('Q[2][4][1]')) + (28.000000 * Binary('Q[2][5][1]')) + (22.000000 * Binary('Q[3][0][1]')) + (3.000000 * Binary('Q[3][1][1]')) + (21.000000 * Binary('Q[3][2][1]')) + (1000.000000 * Binary('Q[3][3][1]')) + (4.000000 * Binary('Q[3][4][1]')) + (5.000000 * Binary('Q[3][5][1]')) + (13.000000 * Binary('Q[4][0][1]')) + (25.000000 * Binary('Q[4][1][1]')) + (23.000000 * Binary('Q[4][2][1]')) + (4.000000 * Binary('Q[4][3][1]')) + (1000.000000 * Binary('Q[4][4][1]')) + (16.000000 * Binary('Q[4][5][1]')) + (24.000000 * Binary('Q[5][0][1]')) + (6.000000 * Binary('Q[5][1][1]')) + (28.000000 * Binary('Q[5][2][1]')) + (5.000000 * Binary('Q[5][3][1]')) + (16.000000 * Binary('Q[5][4][1]')) + (1000.000000 * Binary('Q[5][5][1]')))"
      ]
     },
     "execution_count": 9,
     "metadata": {},
     "output_type": "execute_result"
    }
   ],
   "source": [
    "objective"
   ]
  },
  {
   "cell_type": "markdown",
   "metadata": {},
   "source": [
    "## Writing the Constraints"
   ]
  },
  {
   "cell_type": "markdown",
   "metadata": {},
   "source": [
    "### Constraint 1\n",
    "The edge between nodes i and j can either belong to path, or not belong to it.\n",
    "  \n",
    "$$\n",
    "    \\forall \\, i,j : H_{c1} = (\\sum_{r=0}^{2} \\, x_{i,j,r} - 1)^{2}\n",
    "$$"
   ]
  },
  {
   "cell_type": "code",
   "execution_count": 10,
   "metadata": {},
   "outputs": [],
   "source": [
    "c1 = 0.0\n",
    "for i in range(N):\n",
    "    for j in range(N):\n",
    "        if i!= j:\n",
    "            c1 += Constraint((sum(X[i][j]) - 1)**2, label=\"c1{}{}\".format(i,j))"
   ]
  },
  {
   "cell_type": "markdown",
   "metadata": {},
   "source": [
    "### Constraint 2\n",
    "The salesman must exit every node only once.\n",
    "  \n",
    "$$\n",
    "    \\forall \\, i : H_{c2} = (\\sum_{j=0}^{N} \\, x_{i,j,1} - 1)^{2}\n",
    "$$"
   ]
  },
  {
   "cell_type": "code",
   "execution_count": 11,
   "metadata": {},
   "outputs": [],
   "source": [
    "c2 = 0.0\n",
    "for i in range(N):\n",
    "    c2 += Constraint((sum(X[i][:,1]) - 1)**2, label=\"c2{}{}\".format(i,j))"
   ]
  },
  {
   "cell_type": "markdown",
   "metadata": {},
   "source": [
    "### Constraint 3\n",
    "The salesman must enter every node only once.\n",
    "  \n",
    "$$\n",
    "    \\forall \\, j : H_{c3} = (\\sum_{i=0}^{N} \\, x_{i,j,1} - 1)^{2}\n",
    "$$"
   ]
  },
  {
   "cell_type": "code",
   "execution_count": 12,
   "metadata": {},
   "outputs": [],
   "source": [
    "c3 = 0.0\n",
    "for j in range(N):\n",
    "    c3 += Constraint((sum(X[:,j][:,1]) - 1)**2, label=\"c3{}{}\".format(i,j))"
   ]
  },
  {
   "cell_type": "markdown",
   "metadata": {},
   "source": [
    "### Constraint 4\n",
    "If node $i$ is reached before $j$, then node $j$ is reached after $i$. So, $\\forall i,j \\in {0,..,N}$ such that $ i \\neq j$\n",
    "  \n",
    "$$\n",
    "    x_{i,j,2} = 1 - x_{j, i, 2}\n",
    "$$"
   ]
  },
  {
   "cell_type": "code",
   "execution_count": 13,
   "metadata": {},
   "outputs": [],
   "source": [
    "c4 = 0.0\n",
    "for i in range(N):\n",
    "    for j in range(N):\n",
    "        if i!=j:\n",
    "            c4 += Constraint((X[i][j][2] - 1 + X[j][i][2])**2, label=\"c4{}{}\".format(i,j))"
   ]
  },
  {
   "cell_type": "markdown",
   "metadata": {},
   "source": [
    "### Constraint 5\n",
    "If node $i$ is reached before $j$ and node $j$ is reached before node $k$, then node $i$ must be reached before $k$. This condition will prevent the route from returning to a node from which it had aleady exited, thus preventing cycles from forming. It is implemented as a penalty term - \n",
    "\n",
    "$$\n",
    "    \\sum_{i=1}^{N} \\sum_{j=1}^{N} \\sum_{k=1}^{N} (x_{j,i,2}x_{k,j,2} - x_{j,i,2}x_{k,i,2} - x_{k,j,2}x_{k,i,2} + x_{k,i,2}) \n",
    "$$\n",
    "\n",
    "Only cases in which $i \\neq j$ and $j \\neq k$ and $i \\neq k$ are considered."
   ]
  },
  {
   "cell_type": "code",
   "execution_count": 14,
   "metadata": {},
   "outputs": [],
   "source": [
    "c5 = 0.0\n",
    "for i in range(1, N):\n",
    "    for j in range(1, N):\n",
    "        for k in range(1, N):\n",
    "            if i!=j and j!=k and i!=k:\n",
    "                c5 += (X[j][i][2]*X[k][j][2] - X[j][i][2]*X[k][i][2] - X[k][j][2]*X[k][i][2] + X[k][i][2])\n",
    "\n"
   ]
  },
  {
   "cell_type": "markdown",
   "metadata": {},
   "source": [
    "## Defining the total Hamiltonian"
   ]
  },
  {
   "cell_type": "code",
   "execution_count": 15,
   "metadata": {},
   "outputs": [],
   "source": [
    "A = Placeholder(\"A\")\n",
    "P = Placeholder(\"P\")\n",
    "\n",
    "H = objective + A*(c1 + c2 + c3 + c4)\n",
    "\n",
    "H = H + P*c5"
   ]
  },
  {
   "cell_type": "markdown",
   "metadata": {},
   "source": [
    "## Compile the model and convert to a BinaryQuadraticModel\n",
    "\n",
    "_**A**_ and _**P**_ values are selected as $75 \\%$ to $150 \\%$ of optimal cost."
   ]
  },
  {
   "cell_type": "code",
   "execution_count": 30,
   "metadata": {},
   "outputs": [],
   "source": [
    "model = H.compile()\n",
    "\n",
    "feed_dict = {\"A\": 100, \"P\": 110}\n",
    "bqm = model.to_bqm(feed_dict = feed_dict)"
   ]
  },
  {
   "cell_type": "markdown",
   "metadata": {},
   "source": [
    "## Run Simulated Annealing"
   ]
  },
  {
   "cell_type": "code",
   "execution_count": 31,
   "metadata": {},
   "outputs": [],
   "source": [
    "sa = neal.SimulatedAnnealingSampler()\n",
    "sampleset = sa.sample(bqm, num_reads=100, num_sweeps=100)"
   ]
  },
  {
   "cell_type": "markdown",
   "metadata": {},
   "source": [
    "## Decode results"
   ]
  },
  {
   "cell_type": "code",
   "execution_count": 32,
   "metadata": {},
   "outputs": [
    {
     "data": {
      "text/plain": [
       "0"
      ]
     },
     "execution_count": 32,
     "metadata": {},
     "output_type": "execute_result"
    }
   ],
   "source": [
    "decoded_samples = model.decode_sampleset(sampleset, feed_dict=feed_dict)\n",
    "best_sample = min(decoded_samples, key = lambda x: x.energy)\n",
    "num_broken = len(best_sample.constraints(only_broken = True))\n",
    "num_broken"
   ]
  },
  {
   "cell_type": "code",
   "execution_count": 33,
   "metadata": {},
   "outputs": [
    {
     "data": {
      "text/plain": [
       "[<cpp_pyqubo.DecodedSample at 0x7f2bd51a6a70>,\n",
       " <cpp_pyqubo.DecodedSample at 0x7f2bd51a5130>,\n",
       " <cpp_pyqubo.DecodedSample at 0x7f2bd51a6eb0>,\n",
       " <cpp_pyqubo.DecodedSample at 0x7f2bd51a46b0>,\n",
       " <cpp_pyqubo.DecodedSample at 0x7f2bd51a5df0>,\n",
       " <cpp_pyqubo.DecodedSample at 0x7f2bd51a7330>,\n",
       " <cpp_pyqubo.DecodedSample at 0x7f2bd51a5370>,\n",
       " <cpp_pyqubo.DecodedSample at 0x7f2bd512c730>,\n",
       " <cpp_pyqubo.DecodedSample at 0x7f2bd512fb70>,\n",
       " <cpp_pyqubo.DecodedSample at 0x7f2bd512d4f0>,\n",
       " <cpp_pyqubo.DecodedSample at 0x7f2bd512fd70>,\n",
       " <cpp_pyqubo.DecodedSample at 0x7f2bd512d3f0>,\n",
       " <cpp_pyqubo.DecodedSample at 0x7f2bd512c830>,\n",
       " <cpp_pyqubo.DecodedSample at 0x7f2bd512c6f0>,\n",
       " <cpp_pyqubo.DecodedSample at 0x7f2bd512d070>,\n",
       " <cpp_pyqubo.DecodedSample at 0x7f2bd512df30>,\n",
       " <cpp_pyqubo.DecodedSample at 0x7f2bd512d1f0>,\n",
       " <cpp_pyqubo.DecodedSample at 0x7f2bd512eeb0>,\n",
       " <cpp_pyqubo.DecodedSample at 0x7f2bd512fcb0>,\n",
       " <cpp_pyqubo.DecodedSample at 0x7f2bd512d630>,\n",
       " <cpp_pyqubo.DecodedSample at 0x7f2bd512f570>,\n",
       " <cpp_pyqubo.DecodedSample at 0x7f2bd5de2430>,\n",
       " <cpp_pyqubo.DecodedSample at 0x7f2bd5de2130>,\n",
       " <cpp_pyqubo.DecodedSample at 0x7f2bd5de2730>,\n",
       " <cpp_pyqubo.DecodedSample at 0x7f2bd5de1eb0>,\n",
       " <cpp_pyqubo.DecodedSample at 0x7f2bd5de3ab0>,\n",
       " <cpp_pyqubo.DecodedSample at 0x7f2bd5de1e70>,\n",
       " <cpp_pyqubo.DecodedSample at 0x7f2bd5de2b30>,\n",
       " <cpp_pyqubo.DecodedSample at 0x7f2bd5de29b0>,\n",
       " <cpp_pyqubo.DecodedSample at 0x7f2bd5de2830>,\n",
       " <cpp_pyqubo.DecodedSample at 0x7f2bd5de24f0>,\n",
       " <cpp_pyqubo.DecodedSample at 0x7f2bd5de2530>,\n",
       " <cpp_pyqubo.DecodedSample at 0x7f2bd5de26b0>,\n",
       " <cpp_pyqubo.DecodedSample at 0x7f2bd5de23b0>,\n",
       " <cpp_pyqubo.DecodedSample at 0x7f2bd5de1db0>,\n",
       " <cpp_pyqubo.DecodedSample at 0x7f2bd5de30b0>,\n",
       " <cpp_pyqubo.DecodedSample at 0x7f2bd5de2930>,\n",
       " <cpp_pyqubo.DecodedSample at 0x7f2bd5de1d70>,\n",
       " <cpp_pyqubo.DecodedSample at 0x7f2bd5de1fb0>,\n",
       " <cpp_pyqubo.DecodedSample at 0x7f2bd5de3230>,\n",
       " <cpp_pyqubo.DecodedSample at 0x7f2bd5de2c30>,\n",
       " <cpp_pyqubo.DecodedSample at 0x7f2bd5de1e30>,\n",
       " <cpp_pyqubo.DecodedSample at 0x7f2bd5de2af0>,\n",
       " <cpp_pyqubo.DecodedSample at 0x7f2bd5de29f0>,\n",
       " <cpp_pyqubo.DecodedSample at 0x7f2bd5de2a30>,\n",
       " <cpp_pyqubo.DecodedSample at 0x7f2bd5de1d30>,\n",
       " <cpp_pyqubo.DecodedSample at 0x7f2bd5de3af0>,\n",
       " <cpp_pyqubo.DecodedSample at 0x7f2bd5de2ef0>,\n",
       " <cpp_pyqubo.DecodedSample at 0x7f2bd5de2d30>,\n",
       " <cpp_pyqubo.DecodedSample at 0x7f2bd5de3db0>,\n",
       " <cpp_pyqubo.DecodedSample at 0x7f2bd5de28b0>,\n",
       " <cpp_pyqubo.DecodedSample at 0x7f2bd5de2270>,\n",
       " <cpp_pyqubo.DecodedSample at 0x7f2bd5de3330>,\n",
       " <cpp_pyqubo.DecodedSample at 0x7f2bd5de1df0>,\n",
       " <cpp_pyqubo.DecodedSample at 0x7f2bd5de1f30>,\n",
       " <cpp_pyqubo.DecodedSample at 0x7f2bd5de21b0>,\n",
       " <cpp_pyqubo.DecodedSample at 0x7f2bd5de2170>,\n",
       " <cpp_pyqubo.DecodedSample at 0x7f2bd5de3ef0>,\n",
       " <cpp_pyqubo.DecodedSample at 0x7f2bd5de26f0>,\n",
       " <cpp_pyqubo.DecodedSample at 0x7f2bd5de27b0>,\n",
       " <cpp_pyqubo.DecodedSample at 0x7f2bd5de24b0>,\n",
       " <cpp_pyqubo.DecodedSample at 0x7f2bd5de2470>,\n",
       " <cpp_pyqubo.DecodedSample at 0x7f2bd5de2230>,\n",
       " <cpp_pyqubo.DecodedSample at 0x7f2bd5de20b0>,\n",
       " <cpp_pyqubo.DecodedSample at 0x7f2bd5de25f0>,\n",
       " <cpp_pyqubo.DecodedSample at 0x7f2bd5de2570>,\n",
       " <cpp_pyqubo.DecodedSample at 0x7f2bd5de3b70>,\n",
       " <cpp_pyqubo.DecodedSample at 0x7f2bd5de39f0>,\n",
       " <cpp_pyqubo.DecodedSample at 0x7f2bd5de20f0>,\n",
       " <cpp_pyqubo.DecodedSample at 0x7f2bd5de1cf0>,\n",
       " <cpp_pyqubo.DecodedSample at 0x7f2bd5de3170>,\n",
       " <cpp_pyqubo.DecodedSample at 0x7f2bd5de1f70>,\n",
       " <cpp_pyqubo.DecodedSample at 0x7f2bd5de2ab0>,\n",
       " <cpp_pyqubo.DecodedSample at 0x7f2bd5de2a70>,\n",
       " <cpp_pyqubo.DecodedSample at 0x7f2bd5de33b0>,\n",
       " <cpp_pyqubo.DecodedSample at 0x7f2bd5de2030>,\n",
       " <cpp_pyqubo.DecodedSample at 0x7f2bd5de3370>,\n",
       " <cpp_pyqubo.DecodedSample at 0x7f2bd5de2db0>,\n",
       " <cpp_pyqubo.DecodedSample at 0x7f2bd5de1cb0>,\n",
       " <cpp_pyqubo.DecodedSample at 0x7f2bd5de2bf0>,\n",
       " <cpp_pyqubo.DecodedSample at 0x7f2bd5de2670>,\n",
       " <cpp_pyqubo.DecodedSample at 0x7f2bd5de2cf0>,\n",
       " <cpp_pyqubo.DecodedSample at 0x7f2bd5de37b0>,\n",
       " <cpp_pyqubo.DecodedSample at 0x7f2bd5de2df0>,\n",
       " <cpp_pyqubo.DecodedSample at 0x7f2bd5de3770>,\n",
       " <cpp_pyqubo.DecodedSample at 0x7f2bd5de1c70>,\n",
       " <cpp_pyqubo.DecodedSample at 0x7f2bd5de3730>,\n",
       " <cpp_pyqubo.DecodedSample at 0x7f2bd5de1ff0>,\n",
       " <cpp_pyqubo.DecodedSample at 0x7f2bd5de11b0>,\n",
       " <cpp_pyqubo.DecodedSample at 0x7f2bd5de0770>,\n",
       " <cpp_pyqubo.DecodedSample at 0x7f2bd5d249f0>,\n",
       " <cpp_pyqubo.DecodedSample at 0x7f2bd5d24bb0>,\n",
       " <cpp_pyqubo.DecodedSample at 0x7f2bd5d266b0>,\n",
       " <cpp_pyqubo.DecodedSample at 0x7f2bd59686f0>,\n",
       " <cpp_pyqubo.DecodedSample at 0x7f2bd59681b0>,\n",
       " <cpp_pyqubo.DecodedSample at 0x7f2bd5969b70>,\n",
       " <cpp_pyqubo.DecodedSample at 0x7f2bd59682b0>,\n",
       " <cpp_pyqubo.DecodedSample at 0x7f2bd51bd930>,\n",
       " <cpp_pyqubo.DecodedSample at 0x7f2bd51bca30>,\n",
       " <cpp_pyqubo.DecodedSample at 0x7f2bd51bec70>]"
      ]
     },
     "execution_count": 33,
     "metadata": {},
     "output_type": "execute_result"
    }
   ],
   "source": [
    "[decoded_samples]"
   ]
  },
  {
   "cell_type": "code",
   "execution_count": 19,
   "metadata": {},
   "outputs": [],
   "source": [
    "sample = best_sample.sample\n",
    "solution = []\n",
    "for k in sample:\n",
    "    if sample[k] == 1:\n",
    "        solution.append(k)\n",
    "\n",
    "final_solution = []\n",
    "for kstring in solution:\n",
    "    if kstring[-2] == '1':\n",
    "        final_solution.append(kstring)"
   ]
  },
  {
   "cell_type": "code",
   "execution_count": 20,
   "metadata": {},
   "outputs": [
    {
     "name": "stdout",
     "output_type": "stream",
     "text": [
      "SA solution: [(0, 2), (2, 1), (1, 5), (5, 3), (3, 4), (4, 0)], SA cost: 76.0\n",
      "Exact solution: [(0, 2), (2, 1), (1, 5), (5, 3), (3, 4), (4, 0)], Optimal cost: 76\n"
     ]
    }
   ],
   "source": [
    "import re\n",
    "\n",
    "def parse_path(result):\n",
    "    edges = {}\n",
    "    for element in result:\n",
    "        numbers = re.findall(\"\\[\\d*\\]\", element)\n",
    "        start, end = tuple(map(lambda x: int(x[1:-1]), numbers[:2]))\n",
    "        edges[start] = end\n",
    "    \n",
    "    path = [(0, edges[0])]\n",
    "    next = edges[0]\n",
    "\n",
    "    while next != 0:\n",
    "        path.append((next, edges[next]))\n",
    "        next = edges[next]\n",
    "\n",
    "    return path\n",
    "            \n",
    "path_to_plot = parse_path(final_solution)\n",
    "print('SA solution: {}, SA cost: {}'.format(path_to_plot, best_sample.energy))\n",
    "print('Exact solution: {}, Optimal cost: {}'.format(optimal_path, optimal_cost))"
   ]
  },
  {
   "cell_type": "code",
   "execution_count": 21,
   "metadata": {},
   "outputs": [
    {
     "data": {
      "image/png": "[encoded data removed]",
      "text/plain": [
       "<Figure size 432x288 with 1 Axes>"
      ]
     },
     "metadata": {},
     "output_type": "display_data"
    }
   ],
   "source": [
    "nx.draw(G, pos, with_labels = True, font_weight = 'bold')\n",
    "nx.draw_networkx_edges(G, pos, edgelist=path_to_plot, edge_color='r', width=4)\n",
    "nx.draw_networkx_edges(G, pos, edgelist=optimal_path, edge_color='g', width=4)\n",
    "plt.show()"
   ]
  },
  {
   "cell_type": "markdown",
   "metadata": {},
   "source": [
    "## Run Simulated Annealing with changing parameter value"
   ]
  },
  {
   "cell_type": "code",
   "execution_count": 22,
   "metadata": {},
   "outputs": [],
   "source": [
    "def run_sa(model, parameter_list, verbose=1):\n",
    "    history = []\n",
    "\n",
    "    for parameter in parameter_list:\n",
    "        parameter = round(parameter, 2)\n",
    "        feed_dict = {\"A\": parameter, \"P\": parameter}\n",
    "        bqm = model.to_bqm(feed_dict = feed_dict)\n",
    "        \n",
    "        sa = neal.SimulatedAnnealingSampler()\n",
    "        sampleset = sa.sample(bqm, num_reads=100, num_sweeps=100)\n",
    "\n",
    "        decoded_samples = model.decode_sampleset(sampleset, feed_dict=feed_dict)\n",
    "        best_sample = min(decoded_samples, key = lambda x: x.energy)\n",
    "        num_broken = len(best_sample.constraints(only_broken = True))\n",
    "        if num_broken != 0:\n",
    "            print(\"Constraints not satisfied for parameter {:.2f}\".format(parameter))\n",
    "        \n",
    "        cost = best_sample.energy\n",
    "        history.append(cost)\n",
    "\n",
    "        if verbose:\n",
    "            print(\"Parameter {:.2f} Cost {:.2f}\".format(parameter, cost))\n",
    "    \n",
    "    return history"
   ]
  },
  {
   "cell_type": "code",
   "execution_count": 28,
   "metadata": {},
   "outputs": [
    {
     "name": "stdout",
     "output_type": "stream",
     "text": [
      "Constraints not satisfied for parameter 19.00\n"
     ]
    }
   ],
   "source": [
    "parameter_list = np.linspace(optimal_cost - 0.75*optimal_cost, optimal_cost + 1.5*optimal_cost, num=50)\n",
    "\n",
    "history = run_sa(model, parameter_list, verbose=0)"
   ]
  },
  {
   "cell_type": "code",
   "execution_count": 29,
   "metadata": {},
   "outputs": [
    {
     "data": {
      "image/png": "[encoded data removed]",
      "text/plain": [
       "<Figure size 720x576 with 1 Axes>"
      ]
     },
     "metadata": {
      "needs_background": "light"
     },
     "output_type": "display_data"
    }
   ],
   "source": [
    "plt.figure(figsize=(10,8))\n",
    "plt.plot(parameter_list, history, color = 'b', label='SA')\n",
    "plt.xlabel(\"Parameter value\", fontsize=12)\n",
    "plt.ylabel(\"Solution Cost\", fontsize=12)\n",
    "plt.plot(parameter_list, [optimal_cost for _ in range(len(parameter_list))], color='r', label='Optimal solution')\n",
    "plt.title(\"Parameter value vs Cost\", fontsize=15)\n",
    "plt.legend(fontsize=20)\n",
    "plt.show()"
   ]
  },
  {
   "cell_type": "markdown",
   "metadata": {},
   "source": [
    "# Number of qubits required = $3N^{2}$\n",
    "---"
   ]
  },
  {
   "cell_type": "code",
   "execution_count": null,
   "metadata": {},
   "outputs": [],
   "source": []
  }
 ],
 "metadata": {
  "kernelspec": {
   "display_name": "Python 3.10.4 ('qintern': venv)",
   "language": "python",
   "name": "python3"
  },
  "language_info": {
   "codemirror_mode": {
    "name": "ipython",
    "version": 3
   },
   "file_extension": ".py",
   "mimetype": "text/x-python",
   "name": "python",
   "nbconvert_exporter": "python",
   "pygments_lexer": "ipython3",
   "version": "3.10.4"
  },
  "orig_nbformat": 4,
  "vscode": {
   "interpreter": {
    "hash": "4f4e2b115844d88403c72dcbec2fd4ff4d1eba887c8c234321df9a4d7fa0a8e2"
   }
  }
 },
 "nbformat": 4,
 "nbformat_minor": 2
}
