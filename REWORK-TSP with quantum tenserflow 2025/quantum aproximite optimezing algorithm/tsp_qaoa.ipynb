{
 "cells": [
  {
   "cell_type": "code",
   "execution_count": 51,
   "metadata": {},
   "outputs": [],
   "source": [
    "import cirq\n",
    "\n",
    "class SimpleTSP:\n",
    "    def __init__(self, number_of_cities):\n",
    "        self.number_of_cities = number_of_cities\n",
    "\n",
    "class QAOA_TSP_Step1:\n",
    "    def __init__(self, tsp_instance):\n",
    "        self.tsp_instance = tsp_instance\n",
    "        n = tsp_instance.number_of_cities\n",
    "        self.qubits = cirq.GridQubit.rect(1, n * n)  # 1 satır, n² sütun"
   ]
  },
  {
   "cell_type": "code",
   "execution_count": 52,
   "metadata": {},
   "outputs": [
    {
     "name": "stdout",
     "output_type": "stream",
     "text": [
      "Qubits:\n",
      "q(0, 0)\n",
      "q(0, 1)\n",
      "q(0, 2)\n",
      "q(0, 3)\n",
      "q(0, 4)\n",
      "q(0, 5)\n",
      "q(0, 6)\n",
      "q(0, 7)\n",
      "q(0, 8)\n"
     ]
    }
   ],
   "source": [
    "tsp = SimpleTSP(3)  # 3 şehir\n",
    "qaoa = QAOA_TSP_Step1(tsp)\n",
    "\n",
    "print(\"Qubits:\")\n",
    "for q in qaoa.qubits:\n",
    "    print(q)"
   ]
  },
  {
   "cell_type": "code",
   "execution_count": 53,
   "metadata": {},
   "outputs": [],
   "source": [
    "import cirq\n",
    "\n",
    "class QAOA_TSP_Step2(QAOA_TSP_Step1):\n",
    "    def __init__(self, tsp_instance):\n",
    "        super().__init__(tsp_instance)\n",
    "\n",
    "    def calc_bit(self, i, t):\n",
    "        # i: şehir indexi, t: zaman indexi\n",
    "        return i + t * self.tsp_instance.number_of_cities\n",
    "\n",
    "    def x(self, i, t):\n",
    "        index = self.calc_bit(i, t)\n",
    "        qubit = self.qubits[index]\n",
    "        return 0.5 * cirq.I(qubit) - 0.5 * cirq.Z(qubit)"
   ]
  },
  {
   "cell_type": "code",
   "execution_count": 54,
   "metadata": {},
   "outputs": [
    {
     "name": "stdout",
     "output_type": "stream",
     "text": [
      "0.500*I-0.500*Z(q(0, 7))\n"
     ]
    }
   ],
   "source": [
    "tsp = SimpleTSP(3)\n",
    "qaoa = QAOA_TSP_Step2(tsp)\n",
    "\n",
    "# Şehir 1, zaman 2\n",
    "x_op = qaoa.x(1, 2)\n",
    "print(x_op)"
   ]
  },
  {
   "cell_type": "code",
   "execution_count": null,
   "metadata": {},
   "outputs": [],
   "source": []
  },
  {
   "cell_type": "code",
   "execution_count": null,
   "metadata": {},
   "outputs": [],
   "source": []
  }
 ],
 "metadata": {
  "kernelspec": {
   "display_name": "Python 3",
   "language": "python",
   "name": "python3"
  },
  "language_info": {
   "codemirror_mode": {
    "name": "ipython",
    "version": 3
   },
   "file_extension": ".py",
   "mimetype": "text/x-python",
   "name": "python",
   "nbconvert_exporter": "python",
   "pygments_lexer": "ipython3",
   "version": "3.9.6"
  }
 },
 "nbformat": 4,
 "nbformat_minor": 2
}
