{
 "cells": [
  {
   "cell_type": "code",
   "execution_count": 1,
   "id": "474de4f5",
   "metadata": {},
   "outputs": [
    {
     "name": "stdout",
     "output_type": "stream",
     "text": [
      "Warning: Cplex not found.\n"
     ]
    }
   ],
   "source": [
    "# Load the packages that are required\n",
    "import numpy as np\n",
    "import operator\n",
    "import matplotlib.pyplot as plt\n",
    "\n",
    "import sys\n",
    "if sys.version_info < (3, 6):\n",
    "    raise Exception('Please use Python version 3.6 or greater.')\n",
    "\n",
    "try:\n",
    "    import cplex\n",
    "    from cplex.exceptions import CplexError\n",
    "except:\n",
    "    print(\"Warning: Cplex not found.\")\n",
    "import math\n",
    "\n",
    "# Qiskit packages\n",
    "from qiskit import BasicAer\n",
    "from qiskit.quantum_info import Pauli\n",
    "from qiskit.utils import QuantumInstance, algorithm_globals\n",
    "from qiskit.algorithms import NumPyMinimumEigensolver, VQE,QAOA\n",
    "from qiskit.circuit.library import TwoLocal\n",
    "from qiskit.algorithms.optimizers import SPSA, COBYLA, SLSQP, ADAM\n",
    "# from qiskit.aqua.operators import WeightedPauliOperator\n",
    "# setup aqua logging\n",
    "import logging\n",
    "# from qiskit.aqua._logging import set_logging_config, build_logging_config\n",
    "#set_logging_config(build_logging_config(logging.DEBUG))  # choose INFO, DEBUG to see the log"
   ]
  },
  {
   "cell_type": "code",
   "execution_count": 2,
   "id": "26d3486b",
   "metadata": {},
   "outputs": [],
   "source": [
    "# Initialize the problem by defining the parameters\n",
    "n = 4  # number of nodes + depot (n+1)\n",
    "K = 2  # number of vehicles"
   ]
  },
  {
   "cell_type": "code",
   "execution_count": 3,
   "id": "cb4c1c30-2517-4856-9809-81712665ff0e",
   "metadata": {},
   "outputs": [],
   "source": [
    "#Create a random Graphs\n",
    "class Initializer():\n",
    "\n",
    "    def __init__(self, n):\n",
    "        self.n = n\n",
    "\n",
    "    def generate_instance(self):\n",
    "\n",
    "        n = self.n\n",
    "\n",
    "        np.random.seed(1043)\n",
    "\n",
    "        xc = (np.random.rand(n) - 0.5) * 10\n",
    "        yc = (np.random.rand(n) - 0.5) * 10\n",
    "\n",
    "        instance = np.zeros([n, n])\n",
    "        for ii in range(0, n):\n",
    "            for jj in range(ii + 1, n):\n",
    "                instance[ii, jj] = (xc[ii] - xc[jj]) ** 2 + (yc[ii] - yc[jj]) ** 2\n",
    "                instance[jj, ii] = instance[ii, jj]\n",
    "\n",
    "        return xc, yc, instance"
   ]
  },
  {
   "cell_type": "code",
   "execution_count": 4,
   "id": "1e1df871-38d9-4db6-9f65-828f776b3b35",
   "metadata": {},
   "outputs": [
    {
     "data": {
      "text/plain": [
       "(-5.0, 5.0)"
      ]
     },
     "execution_count": 4,
     "metadata": {},
     "output_type": "execute_result"
    },
    {
     "data": {
      "image/png": "[encoded data removed]",
      "text/plain": [
       "<Figure size 432x288 with 1 Axes>"
      ]
     },
     "metadata": {
      "needs_background": "light"
     },
     "output_type": "display_data"
    }
   ],
   "source": [
    "# Initialize the problem by randomly generating the instance\n",
    "initializer = Initializer(n)\n",
    "xc,yc,instance = initializer.generate_instance()\n",
    "\n",
    "plt.plot(xc,yc,'.')\n",
    "\n",
    "plt.xlim(-5,5)\n",
    "plt.ylim(-5,5)"
   ]
  },
  {
   "cell_type": "code",
   "execution_count": 5,
   "id": "55190992-3193-46b4-b9b3-661868563cd8",
   "metadata": {},
   "outputs": [],
   "source": [
    "class ClassicalOptimizer:\n",
    "\n",
    "    def __init__(self, instance,n,K):\n",
    "\n",
    "        self.instance = instance\n",
    "        self.n = n  # number of nodes\n",
    "        self.K = K  # number of vehicles\n",
    "\n",
    "\n",
    "    def compute_allowed_combinations(self):\n",
    "        f = math.factorial\n",
    "        return f(self.n) / f(self.K) / f(self.n-self.K)\n",
    "\n",
    "\n",
    "    def cplex_solution(self):\n",
    "\n",
    "        # refactoring\n",
    "        instance = self.instance\n",
    "        n = self.n\n",
    "        K = self.K\n",
    "\n",
    "        my_obj = list(instance.reshape(1, n**2)[0])+[0. for x in range(0,n-1)]\n",
    "        my_ub = [1 for x in range(0,n**2+n-1)]\n",
    "        my_lb = [0 for x in range(0,n**2)] + [0.1 for x in range(0,n-1)]\n",
    "        my_ctype = \"\".join(['I' for x in range(0,n**2)]) + \"\".join(['C' for x in range(0,n-1)])\n",
    "\n",
    "        my_rhs = 2*([K] + [1 for x in range(0,n-1)]) + [1-0.1 for x in range(0,(n-1)**2-(n-1))] + [0 for x in range(0,n)]\n",
    "        my_sense = \"\".join(['E' for x in range(0,2*n)]) + \"\".join(['L' for x in range(0,(n-1)**2-(n-1))])+\"\".join(['E' for x in range(0,n)])\n",
    "\n",
    "        try:\n",
    "            my_prob = cplex.Cplex()\n",
    "            self.populatebyrow(my_prob,my_obj,my_ub,my_lb,my_ctype,my_sense,my_rhs)\n",
    "\n",
    "            my_prob.solve()\n",
    "\n",
    "        except CplexError as exc:\n",
    "            print(exc)\n",
    "            return\n",
    "\n",
    "        x = my_prob.solution.get_values()\n",
    "        x = np.array(x)\n",
    "        cost = my_prob.solution.get_objective_value()\n",
    "\n",
    "        return x,cost\n",
    "\n",
    "\n",
    "    def populatebyrow(self,prob,my_obj,my_ub,my_lb,my_ctype,my_sense,my_rhs):\n",
    "\n",
    "        n = self.n\n",
    "\n",
    "        prob.objective.set_sense(prob.objective.sense.minimize)\n",
    "        prob.variables.add(obj = my_obj, lb = my_lb, ub = my_ub, types = my_ctype)\n",
    "\n",
    "        prob.set_log_stream(None)\n",
    "        prob.set_error_stream(None)\n",
    "        prob.set_warning_stream(None)\n",
    "        prob.set_results_stream(None)\n",
    "\n",
    "        rows = []\n",
    "        for ii in range(0,n):\n",
    "            col = [x for x in range(0+n*ii,n+n*ii)]\n",
    "            coef = [1 for x in range(0,n)]\n",
    "            rows.append([col, coef])\n",
    "\n",
    "        for ii in range(0,n):\n",
    "            col = [x for x in range(0+ii,n**2,n)]\n",
    "            coef = [1 for x in range(0,n)]\n",
    "\n",
    "            rows.append([col, coef])\n",
    "\n",
    "        # Sub-tour elimination constraints:\n",
    "        for ii in range(0, n):\n",
    "            for jj in range(0,n):\n",
    "                if (ii != jj)and(ii*jj>0):\n",
    "\n",
    "                    col = [ii+(jj*n), n**2+ii-1, n**2+jj-1]\n",
    "                    coef = [1, 1, -1]\n",
    "\n",
    "                    rows.append([col, coef])\n",
    "\n",
    "        for ii in range(0,n):\n",
    "            col = [(ii)*(n+1)]\n",
    "            coef = [1]\n",
    "            rows.append([col, coef])\n",
    "\n",
    "        prob.linear_constraints.add(lin_expr=rows, senses=my_sense, rhs=my_rhs)"
   ]
  },
  {
   "cell_type": "code",
   "execution_count": 6,
   "id": "ef243f9a-bf29-49e4-a05e-460321d3da99",
   "metadata": {},
   "outputs": [
    {
     "name": "stdout",
     "output_type": "stream",
     "text": [
      "Number of feasible solutions = 6.0\n"
     ]
    }
   ],
   "source": [
    "# Instantiate the classical optimizer class\n",
    "classical_optimizer = ClassicalOptimizer(instance,n,K)\n",
    "\n",
    "# Print number of feasible solutions\n",
    "print('Number of feasible solutions = ' + str(classical_optimizer.compute_allowed_combinations()))"
   ]
  },
  {
   "cell_type": "code",
   "execution_count": 7,
   "id": "3028d19c-c5ba-46ca-844e-a84d6763351c",
   "metadata": {},
   "outputs": [
    {
     "name": "stdout",
     "output_type": "stream",
     "text": [
      "CPLEX may be missing.\n"
     ]
    }
   ],
   "source": [
    "# Solve the problem in a classical fashion via CPLEX\n",
    "x = None\n",
    "z = None\n",
    "try:\n",
    "    x,classical_cost = classical_optimizer.cplex_solution()\n",
    "    # Put the solution in the z variable\n",
    "    z = [x[ii] for ii in range(n**2) if ii//n != ii%n]\n",
    "    # Print the solution\n",
    "    print(z)\n",
    "except:\n",
    "    print(\"CPLEX may be missing.\")"
   ]
  },
  {
   "cell_type": "code",
   "execution_count": 8,
   "id": "69c4d516-7dec-471b-82e5-9ceec7816407",
   "metadata": {},
   "outputs": [],
   "source": [
    "# Visualize the solution\n",
    "def visualize_solution(xc, yc, x, C, n, K, title_str):\n",
    "    plt.figure()\n",
    "    plt.scatter(xc, yc, s=10)\n",
    "    for i in range(len(xc)):\n",
    "        plt.annotate(i, (xc[i] + 0.15, yc[i]), size=16, color='r')\n",
    "    plt.plot(xc[0], yc[0], 'r*', ms=20)\n",
    "\n",
    "    plt.grid()\n",
    "\n",
    "    for ii in range(0, n ** 2):\n",
    "\n",
    "        if x[ii] > 0:\n",
    "            ix = ii // n\n",
    "            iy = ii % n\n",
    "            plt.arrow(xc[ix], yc[ix], xc[iy] - xc[ix], yc[iy] - yc[ix], length_includes_head=True, head_width=.25)\n",
    "\n",
    "    plt.title(title_str+' cost = ' + str(int(C * 100) / 100.))\n",
    "    plt.show()\n",
    "\n",
    "if x is not None:\n",
    "    visualize_solution(xc, yc, x, classical_cost, n, K, 'Classical')"
   ]
  },
  {
   "cell_type": "code",
   "execution_count": 9,
   "id": "df1643ae-3f44-4d8c-907a-c5feb1379b9a",
   "metadata": {},
   "outputs": [],
   "source": [
    "from qiskit_optimization import QuadraticProgram\n",
    "from qiskit_optimization.algorithms import MinimumEigenOptimizer\n",
    "\n",
    "class QuantumOptimizer:\n",
    "\n",
    "    def __init__(self, instance, n, K):\n",
    "\n",
    "        self.instance = instance\n",
    "        self.n = n\n",
    "        self.K = K\n",
    "\n",
    "    def binary_representation(self,x_sol=0):\n",
    "\n",
    "        instance = self.instance\n",
    "        n = self.n\n",
    "        K = self.K\n",
    "\n",
    "        A = np.max(instance) * 100  # A parameter of cost function\n",
    "\n",
    "        # Determine the weights w\n",
    "        instance_vec = instance.reshape(n ** 2)\n",
    "        w_list = [instance_vec[x] for x in range(n ** 2) if instance_vec[x] > 0]\n",
    "        w = np.zeros(n * (n - 1))\n",
    "        for ii in range(len(w_list)):\n",
    "            w[ii] = w_list[ii]\n",
    "\n",
    "        # Some variables I will use\n",
    "        Id_n = np.eye(n)\n",
    "        Im_n_1 = np.ones([n - 1, n - 1])\n",
    "        Iv_n_1 = np.ones(n)\n",
    "        Iv_n_1[0] = 0\n",
    "        Iv_n = np.ones(n-1)\n",
    "        neg_Iv_n_1 = np.ones(n) - Iv_n_1\n",
    "\n",
    "        v = np.zeros([n, n*(n-1)])\n",
    "        for ii in range(n):\n",
    "            count = ii-1\n",
    "            for jj in range(n*(n-1)):\n",
    "\n",
    "                if jj//(n-1) == ii:\n",
    "                    count = ii\n",
    "\n",
    "                if jj//(n-1) != ii and jj%(n-1) == count:\n",
    "                    v[ii][jj] = 1.\n",
    "\n",
    "        vn = np.sum(v[1:], axis=0)\n",
    "\n",
    "        # Q defines the interactions between variables\n",
    "        Q = A*(np.kron(Id_n, Im_n_1) + np.dot(v.T, v))\n",
    "\n",
    "        # g defines the contribution from the individual variables\n",
    "        g = w - 2 * A * (np.kron(Iv_n_1,Iv_n) + vn.T) - \\\n",
    "                2 * A * K * (np.kron(neg_Iv_n_1, Iv_n) + v[0].T)\n",
    "\n",
    "        # c is the constant offset\n",
    "        c = 2 * A * (n-1) + 2 * A * (K ** 2)\n",
    "\n",
    "        try:\n",
    "            max(x_sol)\n",
    "            # Evaluates the cost distance from a binary representation of a path\n",
    "            fun = lambda x: np.dot(np.around(x), np.dot(Q, np.around(x))) + np.dot(g, np.around(x)) + c\n",
    "            cost = fun(x_sol)\n",
    "        except:\n",
    "            cost = 0\n",
    "\n",
    "        return Q, g, c, cost\n",
    "\n",
    "    def construct_problem(self, Q, g, c) -> QuadraticProgram:\n",
    "        qp = QuadraticProgram()\n",
    "        for i in range(n * (n - 1)):\n",
    "            qp.binary_var(str(i))\n",
    "        qp.objective.quadratic = Q\n",
    "        qp.objective.linear = g\n",
    "        qp.objective.constant = c\n",
    "        return qp\n",
    "\n",
    "    def solve_problem(self, qp):\n",
    "        algorithm_globals.random_seed = 10598\n",
    "        quantum_instance = QuantumInstance(BasicAer.get_backend('qasm_simulator'),\n",
    "                                           seed_simulator=algorithm_globals.random_seed,\n",
    "                                           seed_transpiler=algorithm_globals.random_seed)\n",
    "#         from qiskit.algorithms import QAOA\n",
    "# from qiskit_optimization.algorithms import MinimumEigenOptimizer\n",
    "# backend = Aer.get_backend('statevector_simulator')\n",
    "# qaoa = QAOA(optimizer = ADAM(), quantum_instance = backend, reps=1, initial_point = [0.1,0.1])\n",
    "# eigen_optimizer = MinimumEigenOptimizer(min_eigen_solver = qaoa\n",
    "\n",
    "        qaoa = QAOA(optimizer = ADAM(), quantum_instance = quantum_instance, initial_point = [0.1,0.1])\n",
    "        optimizer = MinimumEigenOptimizer(min_eigen_solver=qaoa)\n",
    "        result = optimizer.solve(qp)\n",
    "        # compute cost of the obtained result\n",
    "        _,_,_,level = self.binary_representation(x_sol=result.x)\n",
    "        return result.x, level"
   ]
  },
  {
   "cell_type": "code",
   "execution_count": 10,
   "id": "be4dbae1-264c-4b77-b78a-43324ecc320b",
   "metadata": {},
   "outputs": [],
   "source": [
    "# Instantiate the quantum optimizer class with parameters:\n",
    "quantum_optimizer = QuantumOptimizer(instance, n, K)"
   ]
  },
  {
   "cell_type": "code",
   "execution_count": 11,
   "id": "57ebecf5-d004-47bc-aa79-189ada34b7e4",
   "metadata": {},
   "outputs": [
    {
     "name": "stdout",
     "output_type": "stream",
     "text": [
      "Could not verify the correctness, due to CPLEX solution being unavailable.\n",
      "Binary cost: 0\n"
     ]
    }
   ],
   "source": [
    "# Check if the binary representation is correct\n",
    "try:\n",
    "    if z is not None:\n",
    "        Q, g, c, binary_cost = quantum_optimizer.binary_representation(x_sol = z)\n",
    "        print(\"Binary cost:\", binary_cost, \"classical cost:\", classical_cost)\n",
    "        if np.abs(binary_cost - classical_cost) < 0.01:\n",
    "            print('Binary formulation is correct')\n",
    "        else: print('Error in the binary formulation')\n",
    "    else:\n",
    "        print('Could not verify the correctness, due to CPLEX solution being unavailable.')\n",
    "        Q, g, c, binary_cost = quantum_optimizer.binary_representation()\n",
    "        print(\"Binary cost:\", binary_cost)\n",
    "except NameError as e:\n",
    "    print(\"Warning: Please run the cells above first.\")\n",
    "    print(e)"
   ]
  },
  {
   "cell_type": "code",
   "execution_count": 12,
   "id": "1e8d099f-347b-4ac8-a1e1-11fdf56e2936",
   "metadata": {},
   "outputs": [
    {
     "name": "stdout",
     "output_type": "stream",
     "text": [
      "minimize 25585.553763393775*0^2 + 25585.553763393775*0*1 + 25585.553763393775*0*10 + 25585.553763393775*0*2 + 25585.553763393775*0*7 + 25585.553763393775*1^2 + 25585.553763393775*1*11 + 25585.553763393775*1*2 + 25585.553763393775*1*4 + 25585.553763393775*10^2 + 25585.553763393775*10*11 + 25585.553763393775*11^2 + 25585.553763393775*2^2 + 25585.553763393775*2*5 + 25585.553763393775*2*8 + 25585.553763393775*3^2 + 25585.553763393775*3*4 + 25585.553763393775*3*5 + 25585.553763393775*3*6 + 25585.553763393775*3*9 + 25585.553763393775*4*11 + 25585.553763393775*4^2 + 25585.553763393775*4*5 + 25585.553763393775*5^2 + 25585.553763393775*5*8 + 25585.553763393775*6^2 + 25585.553763393775*6*7 + 25585.553763393775*6*8 + 25585.553763393775*6*9 + 25585.553763393775*7*10 + 25585.553763393775*7^2 + 25585.553763393775*7*8 + 25585.553763393775*8^2 + 25585.553763393775*9*10 + 25585.553763393775*9*11 + 25585.553763393775*9^2 - 76675.50653508666*0 - 76727.82459411352*1 - 51151.86240217834*10 - 51084.9666881446*11 - 76728.3347464682*2 - 76675.50653508666*3 - 51043.17975797058*4 - 51151.86240217834*5 - 76727.82459411352*6 - 51043.17975797058*7 - 51084.9666881446*8 - 76728.3347464682*9 + 179098.87634375642 (12 variables, 0 constraints, '')\n"
     ]
    }
   ],
   "source": [
    "qp = quantum_optimizer.construct_problem(Q, g, c)\n",
    "print(qp)"
   ]
  },
  {
   "cell_type": "code",
   "execution_count": 13,
   "id": "d665e0d5-8c15-404e-980d-7af5e0725fa2",
   "metadata": {},
   "outputs": [
    {
     "name": "stdout",
     "output_type": "stream",
     "text": [
      "[1. 1. 0. 0. 0. 1. 1. 0. 0. 1. 0. 0.] 186.3998155525769\n"
     ]
    }
   ],
   "source": [
    "quantum_solution, quantum_cost = quantum_optimizer.solve_problem(qp)\n",
    "\n",
    "print(quantum_solution, quantum_cost)"
   ]
  },
  {
   "cell_type": "code",
   "execution_count": 14,
   "id": "187c2d32-0fee-4d66-84e6-f9a90f79e22f",
   "metadata": {},
   "outputs": [
    {
     "data": {
      "image/png": "[encoded data removed]",
      "text/plain": [
       "<Figure size 432x288 with 1 Axes>"
      ]
     },
     "metadata": {
      "needs_background": "light"
     },
     "output_type": "display_data"
    }
   ],
   "source": [
    "# Put the solution in a way that is compatible with the classical variables\n",
    "x_quantum = np.zeros(n**2)\n",
    "kk = 0\n",
    "for ii in range(n ** 2):\n",
    "    if ii // n != ii % n:\n",
    "        x_quantum[ii] = quantum_solution[kk]\n",
    "        kk +=  1\n",
    "\n",
    "\n",
    "# visualize the solution\n",
    "visualize_solution(xc, yc, x_quantum, quantum_cost, n, K, 'Quantum')\n",
    "\n",
    "# and visualize the classical for comparison\n",
    "if x is not None:\n",
    "    visualize_solution(xc, yc, x, classical_cost, n, K, 'Classical')"
   ]
  },
  {
   "cell_type": "code",
   "execution_count": 15,
   "id": "b6b625de-fc06-4e26-abc6-2508fc13ff6b",
   "metadata": {},
   "outputs": [
    {
     "name": "stdout",
     "output_type": "stream",
     "text": [
      "[[  0.          81.15475509  28.83669607  28.32654371]\n",
      " [ 81.15475509   0.         127.92776882  19.24512461]\n",
      " [ 28.83669607 127.92776882   0.          86.14083864]\n",
      " [ 28.32654371  19.24512461  86.14083864   0.        ]]\n"
     ]
    }
   ],
   "source": [
    "print(instance)"
   ]
  },
  {
   "cell_type": "code",
   "execution_count": 16,
   "id": "161a7b41-a221-4248-9fd1-981112b74bd8",
   "metadata": {},
   "outputs": [
    {
     "name": "stdout",
     "output_type": "stream",
     "text": [
      "[ 0.51285377  4.57557563 -4.64590833  4.37885285] [-4.41881095  3.62165211 -2.9275465  -0.76086141]\n"
     ]
    }
   ],
   "source": [
    "print(xc,yc)"
   ]
  },
  {
   "cell_type": "code",
   "execution_count": null,
   "id": "e266e2da-8e21-4168-8aa8-6fc7f82e9912",
   "metadata": {},
   "outputs": [],
   "source": []
  }
 ],
 "metadata": {
  "kernelspec": {
   "display_name": "Python 3 (ipykernel)",
   "language": "python",
   "name": "python3"
  },
  "language_info": {
   "codemirror_mode": {
    "name": "ipython",
    "version": 3
   },
   "file_extension": ".py",
   "mimetype": "text/x-python",
   "name": "python",
   "nbconvert_exporter": "python",
   "pygments_lexer": "ipython3",
   "version": "3.10.4"
  },
  "widgets": {
   "application/vnd.jupyter.widget-state+json": {
    "state": {},
    "version_major": 2,
    "version_minor": 0
   }
  }
 },
 "nbformat": 4,
 "nbformat_minor": 5
}
